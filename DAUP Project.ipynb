{
 "cells": [
  {
   "cell_type": "markdown",
   "id": "04f4998d-ba0f-4f82-8aca-0966d93596f9",
   "metadata": {},
   "source": [
    "# Online Payments Fraud Detection"
   ]
  },
  {
   "cell_type": "markdown",
   "id": "dae3a694-e4f6-4c7c-aeee-594dd1721250",
   "metadata": {},
   "source": [
    "# Problem Statement\n",
    "\n",
    "Project Aim:the goal of this project is to build a machine learning model that can accurately predict payment fraud by distinuguishing between legitimate and fraudulent trnasactions based on their characteristics,such as transaction amount,type,and accounts involved.By using a dataset of both fraudulent and non-fraudulent finalcial transactions, the model can be trained to achieve high accuracy,which can be used by financial institutions to prevent financial losses and protect their customers's assets in real-time..\n"
   ]
  },
  {
   "cell_type": "code",
   "execution_count": 1,
   "id": "5bbf5f98-8cba-4d3e-bf20-49d1ecfdc6f8",
   "metadata": {},
   "outputs": [],
   "source": [
    "#import library's\n",
    "import numpy as np #linear algebra.\n",
    "import pandas as pd #data manipulation\n",
    "import matplotlib.pyplot as plt  #visualize \n",
    "import seaborn as sns #visualize "
   ]
  },
  {
   "cell_type": "code",
   "execution_count": 3,
   "id": "bbdf5380-7759-4ba5-aa03-65378af60a75",
   "metadata": {},
   "outputs": [],
   "source": [
    "df = pd.read_csv(\"PS_20174392719_1491204439457_log.csv\")"
   ]
  },
  {
   "cell_type": "code",
   "execution_count": 4,
   "id": "70878432-799a-4e6b-b304-d003d9be9c2b",
   "metadata": {},
   "outputs": [
    {
     "data": {
      "text/plain": [
       "(6362620, 11)"
      ]
     },
     "execution_count": 4,
     "metadata": {},
     "output_type": "execute_result"
    }
   ],
   "source": [
    "#no.of row and columns\n",
    "df.shape"
   ]
  },
  {
   "cell_type": "markdown",
   "id": "48140185-57f8-4c17-b12c-b71c362825d0",
   "metadata": {},
   "source": [
    "# Data Description:\n",
    "\n",
    "1. step: represents a unit of time where 1 step equals 1 hour\n",
    "2. type: type of online transaction\n",
    "3. amount: the amount of the transaction\n",
    "4. nameOrig: customer starting the transaction\n",
    "5. oldbalanceOrg: balance before the transaction\n",
    "6. newbalanceOrig: balance after the transaction\n",
    "7. nameDest: recipient of the transaction\n",
    "8. oldbalanceDest: initial balance of recipient before the transaction\n",
    "9. newbalanceDest: the new balance of recipient after the transaction\n",
    "10. isFraud: fraud transaction\n",
    "ansaction"
   ]
  },
  {
   "cell_type": "markdown",
   "id": "7b846a0f-cafb-406e-a731-40598bd1b5aa",
   "metadata": {},
   "source": [
    "# Exploratory Data Analysis"
   ]
  },
  {
   "cell_type": "code",
   "execution_count": 50,
   "id": "41872253-a5c0-48bc-9977-7aac348e0d36",
   "metadata": {},
   "outputs": [
    {
     "data": {
      "text/html": [
       "<div>\n",
       "<style scoped>\n",
       "    .dataframe tbody tr th:only-of-type {\n",
       "        vertical-align: middle;\n",
       "    }\n",
       "\n",
       "    .dataframe tbody tr th {\n",
       "        vertical-align: top;\n",
       "    }\n",
       "\n",
       "    .dataframe thead th {\n",
       "        text-align: right;\n",
       "    }\n",
       "</style>\n",
       "<table border=\"1\" class=\"dataframe\">\n",
       "  <thead>\n",
       "    <tr style=\"text-align: right;\">\n",
       "      <th></th>\n",
       "      <th>step</th>\n",
       "      <th>type</th>\n",
       "      <th>amount</th>\n",
       "      <th>nameOrig</th>\n",
       "      <th>oldbalanceOrg</th>\n",
       "      <th>newbalanceOrig</th>\n",
       "      <th>nameDest</th>\n",
       "      <th>oldbalanceDest</th>\n",
       "      <th>newbalanceDest</th>\n",
       "      <th>isFraud</th>\n",
       "      <th>isFlaggedFraud</th>\n",
       "    </tr>\n",
       "  </thead>\n",
       "  <tbody>\n",
       "    <tr>\n",
       "      <th>0</th>\n",
       "      <td>1</td>\n",
       "      <td>PAYMENT</td>\n",
       "      <td>9839.64</td>\n",
       "      <td>C1231006815</td>\n",
       "      <td>170136.00</td>\n",
       "      <td>160296.36</td>\n",
       "      <td>M1979787155</td>\n",
       "      <td>0.0</td>\n",
       "      <td>0.00</td>\n",
       "      <td>0</td>\n",
       "      <td>0</td>\n",
       "    </tr>\n",
       "    <tr>\n",
       "      <th>1</th>\n",
       "      <td>1</td>\n",
       "      <td>PAYMENT</td>\n",
       "      <td>1864.28</td>\n",
       "      <td>C1666544295</td>\n",
       "      <td>21249.00</td>\n",
       "      <td>19384.72</td>\n",
       "      <td>M2044282225</td>\n",
       "      <td>0.0</td>\n",
       "      <td>0.00</td>\n",
       "      <td>0</td>\n",
       "      <td>0</td>\n",
       "    </tr>\n",
       "    <tr>\n",
       "      <th>2</th>\n",
       "      <td>1</td>\n",
       "      <td>TRANSFER</td>\n",
       "      <td>181.00</td>\n",
       "      <td>C1305486145</td>\n",
       "      <td>181.00</td>\n",
       "      <td>0.00</td>\n",
       "      <td>C553264065</td>\n",
       "      <td>0.0</td>\n",
       "      <td>0.00</td>\n",
       "      <td>1</td>\n",
       "      <td>0</td>\n",
       "    </tr>\n",
       "    <tr>\n",
       "      <th>3</th>\n",
       "      <td>1</td>\n",
       "      <td>CASH_OUT</td>\n",
       "      <td>181.00</td>\n",
       "      <td>C840083671</td>\n",
       "      <td>181.00</td>\n",
       "      <td>0.00</td>\n",
       "      <td>C38997010</td>\n",
       "      <td>21182.0</td>\n",
       "      <td>0.00</td>\n",
       "      <td>1</td>\n",
       "      <td>0</td>\n",
       "    </tr>\n",
       "    <tr>\n",
       "      <th>4</th>\n",
       "      <td>1</td>\n",
       "      <td>PAYMENT</td>\n",
       "      <td>11668.14</td>\n",
       "      <td>C2048537720</td>\n",
       "      <td>41554.00</td>\n",
       "      <td>29885.86</td>\n",
       "      <td>M1230701703</td>\n",
       "      <td>0.0</td>\n",
       "      <td>0.00</td>\n",
       "      <td>0</td>\n",
       "      <td>0</td>\n",
       "    </tr>\n",
       "    <tr>\n",
       "      <th>5</th>\n",
       "      <td>1</td>\n",
       "      <td>PAYMENT</td>\n",
       "      <td>7817.71</td>\n",
       "      <td>C90045638</td>\n",
       "      <td>53860.00</td>\n",
       "      <td>46042.29</td>\n",
       "      <td>M573487274</td>\n",
       "      <td>0.0</td>\n",
       "      <td>0.00</td>\n",
       "      <td>0</td>\n",
       "      <td>0</td>\n",
       "    </tr>\n",
       "    <tr>\n",
       "      <th>6</th>\n",
       "      <td>1</td>\n",
       "      <td>PAYMENT</td>\n",
       "      <td>7107.77</td>\n",
       "      <td>C154988899</td>\n",
       "      <td>183195.00</td>\n",
       "      <td>176087.23</td>\n",
       "      <td>M408069119</td>\n",
       "      <td>0.0</td>\n",
       "      <td>0.00</td>\n",
       "      <td>0</td>\n",
       "      <td>0</td>\n",
       "    </tr>\n",
       "    <tr>\n",
       "      <th>7</th>\n",
       "      <td>1</td>\n",
       "      <td>PAYMENT</td>\n",
       "      <td>7861.64</td>\n",
       "      <td>C1912850431</td>\n",
       "      <td>176087.23</td>\n",
       "      <td>168225.59</td>\n",
       "      <td>M633326333</td>\n",
       "      <td>0.0</td>\n",
       "      <td>0.00</td>\n",
       "      <td>0</td>\n",
       "      <td>0</td>\n",
       "    </tr>\n",
       "    <tr>\n",
       "      <th>8</th>\n",
       "      <td>1</td>\n",
       "      <td>PAYMENT</td>\n",
       "      <td>4024.36</td>\n",
       "      <td>C1265012928</td>\n",
       "      <td>2671.00</td>\n",
       "      <td>0.00</td>\n",
       "      <td>M1176932104</td>\n",
       "      <td>0.0</td>\n",
       "      <td>0.00</td>\n",
       "      <td>0</td>\n",
       "      <td>0</td>\n",
       "    </tr>\n",
       "    <tr>\n",
       "      <th>9</th>\n",
       "      <td>1</td>\n",
       "      <td>DEBIT</td>\n",
       "      <td>5337.77</td>\n",
       "      <td>C712410124</td>\n",
       "      <td>41720.00</td>\n",
       "      <td>36382.23</td>\n",
       "      <td>C195600860</td>\n",
       "      <td>41898.0</td>\n",
       "      <td>40348.79</td>\n",
       "      <td>0</td>\n",
       "      <td>0</td>\n",
       "    </tr>\n",
       "  </tbody>\n",
       "</table>\n",
       "</div>"
      ],
      "text/plain": [
       "   step      type    amount     nameOrig  oldbalanceOrg  newbalanceOrig  \\\n",
       "0     1   PAYMENT   9839.64  C1231006815      170136.00       160296.36   \n",
       "1     1   PAYMENT   1864.28  C1666544295       21249.00        19384.72   \n",
       "2     1  TRANSFER    181.00  C1305486145         181.00            0.00   \n",
       "3     1  CASH_OUT    181.00   C840083671         181.00            0.00   \n",
       "4     1   PAYMENT  11668.14  C2048537720       41554.00        29885.86   \n",
       "5     1   PAYMENT   7817.71    C90045638       53860.00        46042.29   \n",
       "6     1   PAYMENT   7107.77   C154988899      183195.00       176087.23   \n",
       "7     1   PAYMENT   7861.64  C1912850431      176087.23       168225.59   \n",
       "8     1   PAYMENT   4024.36  C1265012928        2671.00            0.00   \n",
       "9     1     DEBIT   5337.77   C712410124       41720.00        36382.23   \n",
       "\n",
       "      nameDest  oldbalanceDest  newbalanceDest  isFraud  isFlaggedFraud  \n",
       "0  M1979787155             0.0            0.00        0               0  \n",
       "1  M2044282225             0.0            0.00        0               0  \n",
       "2   C553264065             0.0            0.00        1               0  \n",
       "3    C38997010         21182.0            0.00        1               0  \n",
       "4  M1230701703             0.0            0.00        0               0  \n",
       "5   M573487274             0.0            0.00        0               0  \n",
       "6   M408069119             0.0            0.00        0               0  \n",
       "7   M633326333             0.0            0.00        0               0  \n",
       "8  M1176932104             0.0            0.00        0               0  \n",
       "9   C195600860         41898.0        40348.79        0               0  "
      ]
     },
     "execution_count": 50,
     "metadata": {},
     "output_type": "execute_result"
    }
   ],
   "source": [
    "#Getting top 10 datafrom data from dataset.\n",
    "df.head(10)"
   ]
  },
  {
   "cell_type": "code",
   "execution_count": 51,
   "id": "4324b150-dcf7-4161-bfcd-b429aea0a974",
   "metadata": {},
   "outputs": [
    {
     "data": {
      "text/html": [
       "<div>\n",
       "<style scoped>\n",
       "    .dataframe tbody tr th:only-of-type {\n",
       "        vertical-align: middle;\n",
       "    }\n",
       "\n",
       "    .dataframe tbody tr th {\n",
       "        vertical-align: top;\n",
       "    }\n",
       "\n",
       "    .dataframe thead th {\n",
       "        text-align: right;\n",
       "    }\n",
       "</style>\n",
       "<table border=\"1\" class=\"dataframe\">\n",
       "  <thead>\n",
       "    <tr style=\"text-align: right;\">\n",
       "      <th></th>\n",
       "      <th>step</th>\n",
       "      <th>type</th>\n",
       "      <th>amount</th>\n",
       "      <th>nameOrig</th>\n",
       "      <th>oldbalanceOrg</th>\n",
       "      <th>newbalanceOrig</th>\n",
       "      <th>nameDest</th>\n",
       "      <th>oldbalanceDest</th>\n",
       "      <th>newbalanceDest</th>\n",
       "      <th>isFraud</th>\n",
       "      <th>isFlaggedFraud</th>\n",
       "    </tr>\n",
       "  </thead>\n",
       "  <tbody>\n",
       "    <tr>\n",
       "      <th>6362610</th>\n",
       "      <td>742</td>\n",
       "      <td>TRANSFER</td>\n",
       "      <td>63416.99</td>\n",
       "      <td>C778071008</td>\n",
       "      <td>63416.99</td>\n",
       "      <td>0.0</td>\n",
       "      <td>C1812552860</td>\n",
       "      <td>0.00</td>\n",
       "      <td>0.00</td>\n",
       "      <td>1</td>\n",
       "      <td>0</td>\n",
       "    </tr>\n",
       "    <tr>\n",
       "      <th>6362611</th>\n",
       "      <td>742</td>\n",
       "      <td>CASH_OUT</td>\n",
       "      <td>63416.99</td>\n",
       "      <td>C994950684</td>\n",
       "      <td>63416.99</td>\n",
       "      <td>0.0</td>\n",
       "      <td>C1662241365</td>\n",
       "      <td>276433.18</td>\n",
       "      <td>339850.17</td>\n",
       "      <td>1</td>\n",
       "      <td>0</td>\n",
       "    </tr>\n",
       "    <tr>\n",
       "      <th>6362612</th>\n",
       "      <td>743</td>\n",
       "      <td>TRANSFER</td>\n",
       "      <td>1258818.82</td>\n",
       "      <td>C1531301470</td>\n",
       "      <td>1258818.82</td>\n",
       "      <td>0.0</td>\n",
       "      <td>C1470998563</td>\n",
       "      <td>0.00</td>\n",
       "      <td>0.00</td>\n",
       "      <td>1</td>\n",
       "      <td>0</td>\n",
       "    </tr>\n",
       "    <tr>\n",
       "      <th>6362613</th>\n",
       "      <td>743</td>\n",
       "      <td>CASH_OUT</td>\n",
       "      <td>1258818.82</td>\n",
       "      <td>C1436118706</td>\n",
       "      <td>1258818.82</td>\n",
       "      <td>0.0</td>\n",
       "      <td>C1240760502</td>\n",
       "      <td>503464.50</td>\n",
       "      <td>1762283.33</td>\n",
       "      <td>1</td>\n",
       "      <td>0</td>\n",
       "    </tr>\n",
       "    <tr>\n",
       "      <th>6362614</th>\n",
       "      <td>743</td>\n",
       "      <td>TRANSFER</td>\n",
       "      <td>339682.13</td>\n",
       "      <td>C2013999242</td>\n",
       "      <td>339682.13</td>\n",
       "      <td>0.0</td>\n",
       "      <td>C1850423904</td>\n",
       "      <td>0.00</td>\n",
       "      <td>0.00</td>\n",
       "      <td>1</td>\n",
       "      <td>0</td>\n",
       "    </tr>\n",
       "    <tr>\n",
       "      <th>6362615</th>\n",
       "      <td>743</td>\n",
       "      <td>CASH_OUT</td>\n",
       "      <td>339682.13</td>\n",
       "      <td>C786484425</td>\n",
       "      <td>339682.13</td>\n",
       "      <td>0.0</td>\n",
       "      <td>C776919290</td>\n",
       "      <td>0.00</td>\n",
       "      <td>339682.13</td>\n",
       "      <td>1</td>\n",
       "      <td>0</td>\n",
       "    </tr>\n",
       "    <tr>\n",
       "      <th>6362616</th>\n",
       "      <td>743</td>\n",
       "      <td>TRANSFER</td>\n",
       "      <td>6311409.28</td>\n",
       "      <td>C1529008245</td>\n",
       "      <td>6311409.28</td>\n",
       "      <td>0.0</td>\n",
       "      <td>C1881841831</td>\n",
       "      <td>0.00</td>\n",
       "      <td>0.00</td>\n",
       "      <td>1</td>\n",
       "      <td>0</td>\n",
       "    </tr>\n",
       "    <tr>\n",
       "      <th>6362617</th>\n",
       "      <td>743</td>\n",
       "      <td>CASH_OUT</td>\n",
       "      <td>6311409.28</td>\n",
       "      <td>C1162922333</td>\n",
       "      <td>6311409.28</td>\n",
       "      <td>0.0</td>\n",
       "      <td>C1365125890</td>\n",
       "      <td>68488.84</td>\n",
       "      <td>6379898.11</td>\n",
       "      <td>1</td>\n",
       "      <td>0</td>\n",
       "    </tr>\n",
       "    <tr>\n",
       "      <th>6362618</th>\n",
       "      <td>743</td>\n",
       "      <td>TRANSFER</td>\n",
       "      <td>850002.52</td>\n",
       "      <td>C1685995037</td>\n",
       "      <td>850002.52</td>\n",
       "      <td>0.0</td>\n",
       "      <td>C2080388513</td>\n",
       "      <td>0.00</td>\n",
       "      <td>0.00</td>\n",
       "      <td>1</td>\n",
       "      <td>0</td>\n",
       "    </tr>\n",
       "    <tr>\n",
       "      <th>6362619</th>\n",
       "      <td>743</td>\n",
       "      <td>CASH_OUT</td>\n",
       "      <td>850002.52</td>\n",
       "      <td>C1280323807</td>\n",
       "      <td>850002.52</td>\n",
       "      <td>0.0</td>\n",
       "      <td>C873221189</td>\n",
       "      <td>6510099.11</td>\n",
       "      <td>7360101.63</td>\n",
       "      <td>1</td>\n",
       "      <td>0</td>\n",
       "    </tr>\n",
       "  </tbody>\n",
       "</table>\n",
       "</div>"
      ],
      "text/plain": [
       "         step      type      amount     nameOrig  oldbalanceOrg  \\\n",
       "6362610   742  TRANSFER    63416.99   C778071008       63416.99   \n",
       "6362611   742  CASH_OUT    63416.99   C994950684       63416.99   \n",
       "6362612   743  TRANSFER  1258818.82  C1531301470     1258818.82   \n",
       "6362613   743  CASH_OUT  1258818.82  C1436118706     1258818.82   \n",
       "6362614   743  TRANSFER   339682.13  C2013999242      339682.13   \n",
       "6362615   743  CASH_OUT   339682.13   C786484425      339682.13   \n",
       "6362616   743  TRANSFER  6311409.28  C1529008245     6311409.28   \n",
       "6362617   743  CASH_OUT  6311409.28  C1162922333     6311409.28   \n",
       "6362618   743  TRANSFER   850002.52  C1685995037      850002.52   \n",
       "6362619   743  CASH_OUT   850002.52  C1280323807      850002.52   \n",
       "\n",
       "         newbalanceOrig     nameDest  oldbalanceDest  newbalanceDest  isFraud  \\\n",
       "6362610             0.0  C1812552860            0.00            0.00        1   \n",
       "6362611             0.0  C1662241365       276433.18       339850.17        1   \n",
       "6362612             0.0  C1470998563            0.00            0.00        1   \n",
       "6362613             0.0  C1240760502       503464.50      1762283.33        1   \n",
       "6362614             0.0  C1850423904            0.00            0.00        1   \n",
       "6362615             0.0   C776919290            0.00       339682.13        1   \n",
       "6362616             0.0  C1881841831            0.00            0.00        1   \n",
       "6362617             0.0  C1365125890        68488.84      6379898.11        1   \n",
       "6362618             0.0  C2080388513            0.00            0.00        1   \n",
       "6362619             0.0   C873221189      6510099.11      7360101.63        1   \n",
       "\n",
       "         isFlaggedFraud  \n",
       "6362610               0  \n",
       "6362611               0  \n",
       "6362612               0  \n",
       "6362613               0  \n",
       "6362614               0  \n",
       "6362615               0  \n",
       "6362616               0  \n",
       "6362617               0  \n",
       "6362618               0  \n",
       "6362619               0  "
      ]
     },
     "execution_count": 51,
     "metadata": {},
     "output_type": "execute_result"
    }
   ],
   "source": [
    "#Getting top last 10 data from dataset.\n",
    "df.tail(10)"
   ]
  },
  {
   "cell_type": "code",
   "execution_count": 52,
   "id": "a281af67-093b-4546-bedc-cefea40c6390",
   "metadata": {},
   "outputs": [
    {
     "data": {
      "text/plain": [
       "Index(['step', 'type', 'amount', 'nameOrig', 'oldbalanceOrg', 'newbalanceOrig',\n",
       "       'nameDest', 'oldbalanceDest', 'newbalanceDest', 'isFraud',\n",
       "       'isFlaggedFraud'],\n",
       "      dtype='object')"
      ]
     },
     "execution_count": 52,
     "metadata": {},
     "output_type": "execute_result"
    }
   ],
   "source": [
    "#Getting columns info\n",
    "df.columns"
   ]
  },
  {
   "cell_type": "code",
   "execution_count": 53,
   "id": "ebef4631-8137-458a-a928-a9ee1d9794a8",
   "metadata": {},
   "outputs": [
    {
     "data": {
      "text/plain": [
       "(6362620, 11)"
      ]
     },
     "execution_count": 53,
     "metadata": {},
     "output_type": "execute_result"
    }
   ],
   "source": [
    "#Getting shape of dataset..\n",
    "df.shape"
   ]
  },
  {
   "cell_type": "code",
   "execution_count": 54,
   "id": "14a0f76d-57a3-460d-a1a6-031197275bd9",
   "metadata": {},
   "outputs": [
    {
     "name": "stdout",
     "output_type": "stream",
     "text": [
      "<class 'pandas.core.frame.DataFrame'>\n",
      "RangeIndex: 6362620 entries, 0 to 6362619\n",
      "Data columns (total 11 columns):\n",
      " #   Column          Dtype  \n",
      "---  ------          -----  \n",
      " 0   step            int64  \n",
      " 1   type            object \n",
      " 2   amount          float64\n",
      " 3   nameOrig        object \n",
      " 4   oldbalanceOrg   float64\n",
      " 5   newbalanceOrig  float64\n",
      " 6   nameDest        object \n",
      " 7   oldbalanceDest  float64\n",
      " 8   newbalanceDest  float64\n",
      " 9   isFraud         int64  \n",
      " 10  isFlaggedFraud  int64  \n",
      "dtypes: float64(5), int64(3), object(3)\n",
      "memory usage: 534.0+ MB\n"
     ]
    }
   ],
   "source": [
    "#Getting basic information about dataset..\n",
    "df.info()"
   ]
  },
  {
   "cell_type": "code",
   "execution_count": 55,
   "id": "183eb6d7-08b7-49bc-afce-1d3fbb9b545b",
   "metadata": {},
   "outputs": [
    {
     "data": {
      "text/html": [
       "<div>\n",
       "<style scoped>\n",
       "    .dataframe tbody tr th:only-of-type {\n",
       "        vertical-align: middle;\n",
       "    }\n",
       "\n",
       "    .dataframe tbody tr th {\n",
       "        vertical-align: top;\n",
       "    }\n",
       "\n",
       "    .dataframe thead th {\n",
       "        text-align: right;\n",
       "    }\n",
       "</style>\n",
       "<table border=\"1\" class=\"dataframe\">\n",
       "  <thead>\n",
       "    <tr style=\"text-align: right;\">\n",
       "      <th></th>\n",
       "      <th>step</th>\n",
       "      <th>amount</th>\n",
       "      <th>oldbalanceOrg</th>\n",
       "      <th>newbalanceOrig</th>\n",
       "      <th>oldbalanceDest</th>\n",
       "      <th>newbalanceDest</th>\n",
       "      <th>isFraud</th>\n",
       "      <th>isFlaggedFraud</th>\n",
       "    </tr>\n",
       "  </thead>\n",
       "  <tbody>\n",
       "    <tr>\n",
       "      <th>count</th>\n",
       "      <td>6.362620e+06</td>\n",
       "      <td>6.362620e+06</td>\n",
       "      <td>6.362620e+06</td>\n",
       "      <td>6.362620e+06</td>\n",
       "      <td>6.362620e+06</td>\n",
       "      <td>6.362620e+06</td>\n",
       "      <td>6.362620e+06</td>\n",
       "      <td>6.362620e+06</td>\n",
       "    </tr>\n",
       "    <tr>\n",
       "      <th>mean</th>\n",
       "      <td>2.433972e+02</td>\n",
       "      <td>1.798619e+05</td>\n",
       "      <td>8.338831e+05</td>\n",
       "      <td>8.551137e+05</td>\n",
       "      <td>1.100702e+06</td>\n",
       "      <td>1.224996e+06</td>\n",
       "      <td>1.290820e-03</td>\n",
       "      <td>2.514687e-06</td>\n",
       "    </tr>\n",
       "    <tr>\n",
       "      <th>std</th>\n",
       "      <td>1.423320e+02</td>\n",
       "      <td>6.038582e+05</td>\n",
       "      <td>2.888243e+06</td>\n",
       "      <td>2.924049e+06</td>\n",
       "      <td>3.399180e+06</td>\n",
       "      <td>3.674129e+06</td>\n",
       "      <td>3.590480e-02</td>\n",
       "      <td>1.585775e-03</td>\n",
       "    </tr>\n",
       "    <tr>\n",
       "      <th>min</th>\n",
       "      <td>1.000000e+00</td>\n",
       "      <td>0.000000e+00</td>\n",
       "      <td>0.000000e+00</td>\n",
       "      <td>0.000000e+00</td>\n",
       "      <td>0.000000e+00</td>\n",
       "      <td>0.000000e+00</td>\n",
       "      <td>0.000000e+00</td>\n",
       "      <td>0.000000e+00</td>\n",
       "    </tr>\n",
       "    <tr>\n",
       "      <th>25%</th>\n",
       "      <td>1.560000e+02</td>\n",
       "      <td>1.338957e+04</td>\n",
       "      <td>0.000000e+00</td>\n",
       "      <td>0.000000e+00</td>\n",
       "      <td>0.000000e+00</td>\n",
       "      <td>0.000000e+00</td>\n",
       "      <td>0.000000e+00</td>\n",
       "      <td>0.000000e+00</td>\n",
       "    </tr>\n",
       "    <tr>\n",
       "      <th>50%</th>\n",
       "      <td>2.390000e+02</td>\n",
       "      <td>7.487194e+04</td>\n",
       "      <td>1.420800e+04</td>\n",
       "      <td>0.000000e+00</td>\n",
       "      <td>1.327057e+05</td>\n",
       "      <td>2.146614e+05</td>\n",
       "      <td>0.000000e+00</td>\n",
       "      <td>0.000000e+00</td>\n",
       "    </tr>\n",
       "    <tr>\n",
       "      <th>75%</th>\n",
       "      <td>3.350000e+02</td>\n",
       "      <td>2.087215e+05</td>\n",
       "      <td>1.073152e+05</td>\n",
       "      <td>1.442584e+05</td>\n",
       "      <td>9.430367e+05</td>\n",
       "      <td>1.111909e+06</td>\n",
       "      <td>0.000000e+00</td>\n",
       "      <td>0.000000e+00</td>\n",
       "    </tr>\n",
       "    <tr>\n",
       "      <th>max</th>\n",
       "      <td>7.430000e+02</td>\n",
       "      <td>9.244552e+07</td>\n",
       "      <td>5.958504e+07</td>\n",
       "      <td>4.958504e+07</td>\n",
       "      <td>3.560159e+08</td>\n",
       "      <td>3.561793e+08</td>\n",
       "      <td>1.000000e+00</td>\n",
       "      <td>1.000000e+00</td>\n",
       "    </tr>\n",
       "  </tbody>\n",
       "</table>\n",
       "</div>"
      ],
      "text/plain": [
       "               step        amount  oldbalanceOrg  newbalanceOrig  \\\n",
       "count  6.362620e+06  6.362620e+06   6.362620e+06    6.362620e+06   \n",
       "mean   2.433972e+02  1.798619e+05   8.338831e+05    8.551137e+05   \n",
       "std    1.423320e+02  6.038582e+05   2.888243e+06    2.924049e+06   \n",
       "min    1.000000e+00  0.000000e+00   0.000000e+00    0.000000e+00   \n",
       "25%    1.560000e+02  1.338957e+04   0.000000e+00    0.000000e+00   \n",
       "50%    2.390000e+02  7.487194e+04   1.420800e+04    0.000000e+00   \n",
       "75%    3.350000e+02  2.087215e+05   1.073152e+05    1.442584e+05   \n",
       "max    7.430000e+02  9.244552e+07   5.958504e+07    4.958504e+07   \n",
       "\n",
       "       oldbalanceDest  newbalanceDest       isFraud  isFlaggedFraud  \n",
       "count    6.362620e+06    6.362620e+06  6.362620e+06    6.362620e+06  \n",
       "mean     1.100702e+06    1.224996e+06  1.290820e-03    2.514687e-06  \n",
       "std      3.399180e+06    3.674129e+06  3.590480e-02    1.585775e-03  \n",
       "min      0.000000e+00    0.000000e+00  0.000000e+00    0.000000e+00  \n",
       "25%      0.000000e+00    0.000000e+00  0.000000e+00    0.000000e+00  \n",
       "50%      1.327057e+05    2.146614e+05  0.000000e+00    0.000000e+00  \n",
       "75%      9.430367e+05    1.111909e+06  0.000000e+00    0.000000e+00  \n",
       "max      3.560159e+08    3.561793e+08  1.000000e+00    1.000000e+00  "
      ]
     },
     "execution_count": 55,
     "metadata": {},
     "output_type": "execute_result"
    }
   ],
   "source": [
    "#Getting Statistical Description About Datasets..\n",
    "df.describe()"
   ]
  },
  {
   "cell_type": "markdown",
   "id": "cc265b32-d9fc-41de-8844-d537d618ce60",
   "metadata": {},
   "source": [
    "# Data Cleaning\n"
   ]
  },
  {
   "cell_type": "code",
   "execution_count": 56,
   "id": "e3f3db69-0a99-4806-99cc-a9cf32eb9483",
   "metadata": {},
   "outputs": [
    {
     "data": {
      "text/plain": [
       "step              0\n",
       "type              0\n",
       "amount            0\n",
       "nameOrig          0\n",
       "oldbalanceOrg     0\n",
       "newbalanceOrig    0\n",
       "nameDest          0\n",
       "oldbalanceDest    0\n",
       "newbalanceDest    0\n",
       "isFraud           0\n",
       "isFlaggedFraud    0\n",
       "dtype: int64"
      ]
     },
     "execution_count": 56,
     "metadata": {},
     "output_type": "execute_result"
    }
   ],
   "source": [
    "#Now Checking whether this data contains any type of null value or not..\n",
    "df.isnull().sum()"
   ]
  },
  {
   "cell_type": "code",
   "execution_count": 57,
   "id": "10688e48-0bc5-4ab5-be2e-f3b806673190",
   "metadata": {},
   "outputs": [
    {
     "data": {
      "text/plain": [
       "step                  743\n",
       "type                    5\n",
       "amount            5316900\n",
       "nameOrig          6353307\n",
       "oldbalanceOrg     1845844\n",
       "newbalanceOrig    2682586\n",
       "nameDest          2722362\n",
       "oldbalanceDest    3614697\n",
       "newbalanceDest    3555499\n",
       "isFraud                 2\n",
       "isFlaggedFraud          2\n",
       "dtype: int64"
      ]
     },
     "execution_count": 57,
     "metadata": {},
     "output_type": "execute_result"
    }
   ],
   "source": [
    "#Checking for Unique values from the datasets..\n",
    "df.nunique()"
   ]
  },
  {
   "cell_type": "code",
   "execution_count": 58,
   "id": "a34eb879-716d-44ac-8dba-d9a5310c33ae",
   "metadata": {},
   "outputs": [
    {
     "data": {
      "text/plain": [
       "0"
      ]
     },
     "execution_count": 58,
     "metadata": {},
     "output_type": "execute_result"
    }
   ],
   "source": [
    "#Checking whether it has Duplicate data or not\n",
    "df.duplicated().sum()\n"
   ]
  },
  {
   "cell_type": "code",
   "execution_count": 65,
   "id": "954b1cc4-aebb-4cee-95ed-37403d8879ea",
   "metadata": {},
   "outputs": [
    {
     "data": {
      "image/png": "[encoded data removed]",
      "text/plain": [
       "<Figure size 640x480 with 1 Axes>"
      ]
     },
     "metadata": {},
     "output_type": "display_data"
    }
   ],
   "source": [
    "\n",
    "sns.boxplot(df.oldbalanceOrg)\n",
    "plt.show()"
   ]
  },
  {
   "cell_type": "code",
   "execution_count": 68,
   "id": "32795c63-724e-4a0e-8820-27a80a59aff9",
   "metadata": {},
   "outputs": [
    {
     "data": {
      "image/png": "[encoded data removed]",
      "text/plain": [
       "<Figure size 640x480 with 1 Axes>"
      ]
     },
     "metadata": {},
     "output_type": "display_data"
    }
   ],
   "source": [
    "sns.boxplot(df['newbalanceDest'])\n",
    "plt.show()"
   ]
  },
  {
   "cell_type": "code",
   "execution_count": 74,
   "id": "130c118b-b8b9-4d85-a2a4-372359971ee7",
   "metadata": {},
   "outputs": [
    {
     "data": {
      "image/png": "[encoded data removed]",
      "text/plain": [
       "<Figure size 1000x800 with 2 Axes>"
      ]
     },
     "metadata": {},
     "output_type": "display_data"
    }
   ],
   "source": [
    "#Now checking correlation two features..\n",
    "\n",
    "corr_df = df[['step','amount','oldbalanceOrg','newbalanceOrig','oldbalanceDest','newbalanceDest','isFraud','isFlaggedFraud']]\n",
    "\n",
    "plt.figure(figsize=(10, 8))\n",
    "sns.heatmap(corr_df.corr(), annot=True, cmap='coolwarm', fmt=\".2f\", linewidths=0.5)\n",
    "plt.title('Correlation Heatmap')\n",
    "plt.show()"
   ]
  },
  {
   "cell_type": "code",
   "execution_count": 75,
   "id": "f49b9a0d-ae90-467d-b315-164a229df0c3",
   "metadata": {},
   "outputs": [
    {
     "data": {
      "image/png": "[encoded data removed]",
      "text/plain": [
       "<Figure size 640x480 with 1 Axes>"
      ]
     },
     "metadata": {},
     "output_type": "display_data"
    }
   ],
   "source": [
    "plt.scatter(df.oldbalanceOrg, df.newbalanceDest)\n",
    "plt.show()"
   ]
  },
  {
   "cell_type": "code",
   "execution_count": 114,
   "id": "b41a13f9-e9f5-4d86-9975-e835db575c30",
   "metadata": {},
   "outputs": [
    {
     "data": {
      "text/plain": [
       "<Axes: ylabel='count'>"
      ]
     },
     "execution_count": 114,
     "metadata": {},
     "output_type": "execute_result"
    },
    {
     "data": {
      "image/png": "[encoded data removed]",
      "text/plain": [
       "<Figure size 640x480 with 1 Axes>"
      ]
     },
     "metadata": {},
     "output_type": "display_data"
    }
   ],
   "source": [
    "df.type.value_counts().plot(kind  = 'pie',autopct = \"%.2f\")\n"
   ]
  },
  {
   "cell_type": "markdown",
   "id": "1ac53900-d6f3-4b28-90dd-a49e54d17c6e",
   "metadata": {},
   "source": [
    "# Outliers Detection"
   ]
  },
  {
   "cell_type": "code",
   "execution_count": 59,
   "id": "632ace5c-fc71-498b-8cb2-ab27663cde4e",
   "metadata": {},
   "outputs": [
    {
     "data": {
      "image/png": "[encoded data removed]",
      "text/plain": [
       "<Figure size 1000x400 with 1 Axes>"
      ]
     },
     "metadata": {},
     "output_type": "display_data"
    }
   ],
   "source": [
    "#Using InterQuartile Range Method We can easily Remove the Outliers from dataset.\n",
    "\n",
    "plt.figure(figsize=(10,4))\n",
    "plt.boxplot(df['amount'],vert=False)\n",
    "\n",
    "\n",
    "\n",
    "plt.xlabel('Amount')\n",
    "plt.ylabel(\"Values\")\n",
    "plt.title(\"Box Plot of Amount\")\n",
    "plt.show()"
   ]
  },
  {
   "cell_type": "code",
   "execution_count": 62,
   "id": "b3da5048-63a3-4fdd-a4b8-c84a1d6bf5dd",
   "metadata": {},
   "outputs": [
    {
     "data": {
      "image/png": "[encoded data removed]",
      "text/plain": [
       "<Figure size 640x480 with 1 Axes>"
      ]
     },
     "metadata": {},
     "output_type": "display_data"
    }
   ],
   "source": [
    "#Using scatter Plot.. visualizing outliers.\n",
    "\n",
    "#Using scatter Plot.. visualizing outliers.\n",
    "\n",
    "plt.scatter(df.index,df['amount'])\n",
    "plt.xlabel('Index')\n",
    "plt.ylabel(\"Amount\")\n",
    "\n",
    "plt.show()"
   ]
  },
  {
   "cell_type": "code",
   "execution_count": 80,
   "id": "110b7ac4-6681-467f-b0e7-d9c04ea98aaf",
   "metadata": {},
   "outputs": [
    {
     "name": "stdout",
     "output_type": "stream",
     "text": [
      "13389.57   208721.4775\n"
     ]
    }
   ],
   "source": [
    "#Removing Outliers From the Datasets..\n",
    "\n",
    "Q1 = np.percentile(df['amount'],25)\n",
    "\n",
    "Q3 = np.percentile(df['amount'],75)\n",
    "\n",
    "\n",
    "print(Q1 , \" \" ,Q3)"
   ]
  },
  {
   "cell_type": "code",
   "execution_count": 81,
   "id": "280756da-45e5-43f2-9376-68292edc394d",
   "metadata": {},
   "outputs": [
    {
     "name": "stdout",
     "output_type": "stream",
     "text": [
      "195331.9075\n"
     ]
    }
   ],
   "source": [
    "IQR = Q3 - Q1 \n",
    "\n",
    "print(IQR)"
   ]
  },
  {
   "cell_type": "code",
   "execution_count": 82,
   "id": "47ee4e12-4e33-4c8b-ae5c-4cd438b09af0",
   "metadata": {},
   "outputs": [
    {
     "name": "stdout",
     "output_type": "stream",
     "text": [
      "501719.33875   -279608.29125\n"
     ]
    }
   ],
   "source": [
    "upper =Q3 + 1.5 * IQR\n",
    "lower = Q1 - 1.5*IQR\n",
    "\n",
    "\n",
    "print(upper , \" \",lower)"
   ]
  },
  {
   "cell_type": "code",
   "execution_count": 83,
   "id": "7b26ef8f-a97d-4d27-930a-32537d5f0d49",
   "metadata": {},
   "outputs": [],
   "source": [
    "upper = np.where(df['amount'] >= (Q3+1.5*IQR))\n",
    "lower = np.where(df['amount'] <= (Q1-1.5*IQR))"
   ]
  },
  {
   "cell_type": "code",
   "execution_count": 85,
   "id": "1e7fce68-d59b-44e8-b88b-e7e2402aac77",
   "metadata": {},
   "outputs": [],
   "source": [
    "df.drop(upper[0], inplace = True)\n",
    "df.drop(lower[0], inplace = True)"
   ]
  },
  {
   "cell_type": "code",
   "execution_count": 89,
   "id": "050b2017-6784-409d-917c-7674d0e03cdb",
   "metadata": {},
   "outputs": [
    {
     "data": {
      "text/plain": [
       "(6024542,)"
      ]
     },
     "execution_count": 89,
     "metadata": {},
     "output_type": "execute_result"
    }
   ],
   "source": [
    "# We removed 3,38,078 Outliers from Amount Features..\n",
    "\n",
    "df['amount'].shape"
   ]
  },
  {
   "cell_type": "code",
   "execution_count": 5,
   "id": "367ee129-847f-4166-87b7-386a548970b3",
   "metadata": {},
   "outputs": [
    {
     "data": {
      "text/plain": [
       "0     PAYMENT\n",
       "1     PAYMENT\n",
       "2    TRANSFER\n",
       "3    CASH_OUT\n",
       "4     PAYMENT\n",
       "Name: type, dtype: object"
      ]
     },
     "execution_count": 5,
     "metadata": {},
     "output_type": "execute_result"
    }
   ],
   "source": [
    "#Checking how many type of trasaction was done..\n",
    "df.type.head()"
   ]
  },
  {
   "cell_type": "code",
   "execution_count": 102,
   "id": "afdca4a1-f4ce-4f47-9eff-7f5d76093cdb",
   "metadata": {},
   "outputs": [
    {
     "data": {
      "text/plain": [
       "array(['PAYMENT', 'TRANSFER', 'CASH_OUT', 'DEBIT', 'CASH_IN'],\n",
       "      dtype=object)"
      ]
     },
     "execution_count": 102,
     "metadata": {},
     "output_type": "execute_result"
    }
   ],
   "source": [
    "#Checking Uniques Transaction Types..\n",
    "df.type.unique()"
   ]
  },
  {
   "cell_type": "code",
   "execution_count": 104,
   "id": "1f33ca16-a1c6-4fb5-a8c1-1204b38618ac",
   "metadata": {},
   "outputs": [
    {
     "data": {
      "text/plain": [
       "type\n",
       "CASH_OUT    2185249\n",
       "PAYMENT     2151495\n",
       "CASH_IN     1373826\n",
       "TRANSFER     272542\n",
       "DEBIT         41430\n",
       "Name: count, dtype: int64"
      ]
     },
     "execution_count": 104,
     "metadata": {},
     "output_type": "execute_result"
    }
   ],
   "source": [
    "#Counting the occurence of Transaction Types\n",
    "df.type.value_counts()"
   ]
  },
  {
   "cell_type": "code",
   "execution_count": 106,
   "id": "1a98de6c-a033-4467-b969-5bbe5907d3ac",
   "metadata": {},
   "outputs": [
    {
     "data": {
      "image/png": "[encoded data removed]",
      "text/plain": [
       "<Figure size 640x480 with 1 Axes>"
      ]
     },
     "metadata": {},
     "output_type": "display_data"
    }
   ],
   "source": [
    "#it looks like that cash out takes the most of the data and then payment so we can conclude that the most of fraud will be in this two types\n",
    "sns.barplot(x = df.type.value_counts().index, y = df.type.value_counts().values)\n",
    "plt.show()"
   ]
  },
  {
   "cell_type": "code",
   "execution_count": 108,
   "id": "9213f88e-0e94-4594-ac28-dc7578560785",
   "metadata": {},
   "outputs": [
    {
     "data": {
      "text/html": [
       "<div>\n",
       "<style scoped>\n",
       "    .dataframe tbody tr th:only-of-type {\n",
       "        vertical-align: middle;\n",
       "    }\n",
       "\n",
       "    .dataframe tbody tr th {\n",
       "        vertical-align: top;\n",
       "    }\n",
       "\n",
       "    .dataframe thead th {\n",
       "        text-align: right;\n",
       "    }\n",
       "</style>\n",
       "<table border=\"1\" class=\"dataframe\">\n",
       "  <thead>\n",
       "    <tr style=\"text-align: right;\">\n",
       "      <th></th>\n",
       "      <th>step</th>\n",
       "      <th>amount</th>\n",
       "      <th>oldbalanceOrg</th>\n",
       "      <th>newbalanceOrig</th>\n",
       "      <th>oldbalanceDest</th>\n",
       "      <th>newbalanceDest</th>\n",
       "      <th>isFraud</th>\n",
       "      <th>isFlaggedFraud</th>\n",
       "    </tr>\n",
       "  </thead>\n",
       "  <tbody>\n",
       "    <tr>\n",
       "      <th>count</th>\n",
       "      <td>6.024542e+06</td>\n",
       "      <td>6.024542e+06</td>\n",
       "      <td>6.024542e+06</td>\n",
       "      <td>6.024542e+06</td>\n",
       "      <td>6.024542e+06</td>\n",
       "      <td>6.024542e+06</td>\n",
       "      <td>6.024542e+06</td>\n",
       "      <td>6.024542e+06</td>\n",
       "    </tr>\n",
       "    <tr>\n",
       "      <th>mean</th>\n",
       "      <td>2.433126e+02</td>\n",
       "      <td>1.115342e+05</td>\n",
       "      <td>8.619579e+05</td>\n",
       "      <td>8.859130e+05</td>\n",
       "      <td>9.871265e+05</td>\n",
       "      <td>1.037883e+06</td>\n",
       "      <td>7.235405e-04</td>\n",
       "      <td>3.319754e-07</td>\n",
       "    </tr>\n",
       "    <tr>\n",
       "      <th>std</th>\n",
       "      <td>1.422881e+02</td>\n",
       "      <td>1.203983e+05</td>\n",
       "      <td>2.933837e+06</td>\n",
       "      <td>2.969976e+06</td>\n",
       "      <td>3.031559e+06</td>\n",
       "      <td>3.055336e+06</td>\n",
       "      <td>2.688898e-02</td>\n",
       "      <td>5.761731e-04</td>\n",
       "    </tr>\n",
       "    <tr>\n",
       "      <th>min</th>\n",
       "      <td>1.000000e+00</td>\n",
       "      <td>0.000000e+00</td>\n",
       "      <td>0.000000e+00</td>\n",
       "      <td>0.000000e+00</td>\n",
       "      <td>0.000000e+00</td>\n",
       "      <td>0.000000e+00</td>\n",
       "      <td>0.000000e+00</td>\n",
       "      <td>0.000000e+00</td>\n",
       "    </tr>\n",
       "    <tr>\n",
       "      <th>25%</th>\n",
       "      <td>1.560000e+02</td>\n",
       "      <td>1.236854e+04</td>\n",
       "      <td>0.000000e+00</td>\n",
       "      <td>0.000000e+00</td>\n",
       "      <td>0.000000e+00</td>\n",
       "      <td>0.000000e+00</td>\n",
       "      <td>0.000000e+00</td>\n",
       "      <td>0.000000e+00</td>\n",
       "    </tr>\n",
       "    <tr>\n",
       "      <th>50%</th>\n",
       "      <td>2.380000e+02</td>\n",
       "      <td>6.317582e+04</td>\n",
       "      <td>1.514600e+04</td>\n",
       "      <td>0.000000e+00</td>\n",
       "      <td>1.027301e+05</td>\n",
       "      <td>1.683203e+05</td>\n",
       "      <td>0.000000e+00</td>\n",
       "      <td>0.000000e+00</td>\n",
       "    </tr>\n",
       "    <tr>\n",
       "      <th>75%</th>\n",
       "      <td>3.340000e+02</td>\n",
       "      <td>1.829338e+05</td>\n",
       "      <td>1.134380e+05</td>\n",
       "      <td>1.602874e+05</td>\n",
       "      <td>8.249873e+05</td>\n",
       "      <td>9.251457e+05</td>\n",
       "      <td>0.000000e+00</td>\n",
       "      <td>0.000000e+00</td>\n",
       "    </tr>\n",
       "    <tr>\n",
       "      <th>max</th>\n",
       "      <td>7.430000e+02</td>\n",
       "      <td>5.017184e+05</td>\n",
       "      <td>4.381886e+07</td>\n",
       "      <td>4.368662e+07</td>\n",
       "      <td>3.560159e+08</td>\n",
       "      <td>3.561793e+08</td>\n",
       "      <td>1.000000e+00</td>\n",
       "      <td>1.000000e+00</td>\n",
       "    </tr>\n",
       "  </tbody>\n",
       "</table>\n",
       "</div>"
      ],
      "text/plain": [
       "               step        amount  oldbalanceOrg  newbalanceOrig  \\\n",
       "count  6.024542e+06  6.024542e+06   6.024542e+06    6.024542e+06   \n",
       "mean   2.433126e+02  1.115342e+05   8.619579e+05    8.859130e+05   \n",
       "std    1.422881e+02  1.203983e+05   2.933837e+06    2.969976e+06   \n",
       "min    1.000000e+00  0.000000e+00   0.000000e+00    0.000000e+00   \n",
       "25%    1.560000e+02  1.236854e+04   0.000000e+00    0.000000e+00   \n",
       "50%    2.380000e+02  6.317582e+04   1.514600e+04    0.000000e+00   \n",
       "75%    3.340000e+02  1.829338e+05   1.134380e+05    1.602874e+05   \n",
       "max    7.430000e+02  5.017184e+05   4.381886e+07    4.368662e+07   \n",
       "\n",
       "       oldbalanceDest  newbalanceDest       isFraud  isFlaggedFraud  \n",
       "count    6.024542e+06    6.024542e+06  6.024542e+06    6.024542e+06  \n",
       "mean     9.871265e+05    1.037883e+06  7.235405e-04    3.319754e-07  \n",
       "std      3.031559e+06    3.055336e+06  2.688898e-02    5.761731e-04  \n",
       "min      0.000000e+00    0.000000e+00  0.000000e+00    0.000000e+00  \n",
       "25%      0.000000e+00    0.000000e+00  0.000000e+00    0.000000e+00  \n",
       "50%      1.027301e+05    1.683203e+05  0.000000e+00    0.000000e+00  \n",
       "75%      8.249873e+05    9.251457e+05  0.000000e+00    0.000000e+00  \n",
       "max      3.560159e+08    3.561793e+08  1.000000e+00    1.000000e+00  "
      ]
     },
     "execution_count": 108,
     "metadata": {},
     "output_type": "execute_result"
    }
   ],
   "source": [
    "df.describe()\n"
   ]
  },
  {
   "cell_type": "code",
   "execution_count": 109,
   "id": "a4c911ac-3309-463c-be1b-e4752f186ee3",
   "metadata": {},
   "outputs": [
    {
     "data": {
      "text/plain": [
       "0            9839.64\n",
       "1            1864.28\n",
       "2             181.00\n",
       "3             181.00\n",
       "4           11668.14\n",
       "             ...    \n",
       "6362609    258355.42\n",
       "6362610     63416.99\n",
       "6362611     63416.99\n",
       "6362614    339682.13\n",
       "6362615    339682.13\n",
       "Name: amount, Length: 6024542, dtype: float64"
      ]
     },
     "execution_count": 109,
     "metadata": {},
     "output_type": "execute_result"
    }
   ],
   "source": [
    "df.amount"
   ]
  },
  {
   "cell_type": "code",
   "execution_count": 112,
   "id": "9400c67f-0c89-44d9-b9a1-2e6ddbeb995e",
   "metadata": {},
   "outputs": [
    {
     "data": {
      "image/png": "[encoded data removed]",
      "text/plain": [
       "<Figure size 640x480 with 1 Axes>"
      ]
     },
     "metadata": {},
     "output_type": "display_data"
    }
   ],
   "source": [
    "\n",
    "sns.histplot(df.amount)\n",
    "plt.xlabel('the amount of money')\n",
    "plt.show()"
   ]
  },
  {
   "cell_type": "code",
   "execution_count": 113,
   "id": "d93e93f8-e22e-4737-bfdb-f42a1e2fd3dd",
   "metadata": {},
   "outputs": [
    {
     "data": {
      "text/html": [
       "<div>\n",
       "<style scoped>\n",
       "    .dataframe tbody tr th:only-of-type {\n",
       "        vertical-align: middle;\n",
       "    }\n",
       "\n",
       "    .dataframe tbody tr th {\n",
       "        vertical-align: top;\n",
       "    }\n",
       "\n",
       "    .dataframe thead th {\n",
       "        text-align: right;\n",
       "    }\n",
       "</style>\n",
       "<table border=\"1\" class=\"dataframe\">\n",
       "  <thead>\n",
       "    <tr style=\"text-align: right;\">\n",
       "      <th></th>\n",
       "      <th>step</th>\n",
       "      <th>type</th>\n",
       "      <th>amount</th>\n",
       "      <th>nameOrig</th>\n",
       "      <th>oldbalanceOrg</th>\n",
       "      <th>newbalanceOrig</th>\n",
       "      <th>nameDest</th>\n",
       "      <th>oldbalanceDest</th>\n",
       "      <th>newbalanceDest</th>\n",
       "      <th>isFraud</th>\n",
       "      <th>isFlaggedFraud</th>\n",
       "    </tr>\n",
       "  </thead>\n",
       "  <tbody>\n",
       "    <tr>\n",
       "      <th>1737199</th>\n",
       "      <td>161</td>\n",
       "      <td>CASH_OUT</td>\n",
       "      <td>501718.41</td>\n",
       "      <td>C1077569708</td>\n",
       "      <td>78605.00</td>\n",
       "      <td>0.00</td>\n",
       "      <td>C1924590813</td>\n",
       "      <td>697311.14</td>\n",
       "      <td>1199029.56</td>\n",
       "      <td>0</td>\n",
       "      <td>0</td>\n",
       "    </tr>\n",
       "    <tr>\n",
       "      <th>1082806</th>\n",
       "      <td>129</td>\n",
       "      <td>CASH_IN</td>\n",
       "      <td>501718.02</td>\n",
       "      <td>C970634468</td>\n",
       "      <td>20873140.30</td>\n",
       "      <td>21374858.32</td>\n",
       "      <td>C1091756447</td>\n",
       "      <td>5463193.08</td>\n",
       "      <td>5127569.29</td>\n",
       "      <td>0</td>\n",
       "      <td>0</td>\n",
       "    </tr>\n",
       "    <tr>\n",
       "      <th>2827303</th>\n",
       "      <td>226</td>\n",
       "      <td>CASH_OUT</td>\n",
       "      <td>501717.55</td>\n",
       "      <td>C855812747</td>\n",
       "      <td>121947.70</td>\n",
       "      <td>0.00</td>\n",
       "      <td>C914557298</td>\n",
       "      <td>1379104.08</td>\n",
       "      <td>1880821.63</td>\n",
       "      <td>0</td>\n",
       "      <td>0</td>\n",
       "    </tr>\n",
       "    <tr>\n",
       "      <th>2069077</th>\n",
       "      <td>181</td>\n",
       "      <td>CASH_IN</td>\n",
       "      <td>501717.33</td>\n",
       "      <td>C897630635</td>\n",
       "      <td>5120317.65</td>\n",
       "      <td>5622034.98</td>\n",
       "      <td>C1830915224</td>\n",
       "      <td>1314756.05</td>\n",
       "      <td>813038.72</td>\n",
       "      <td>0</td>\n",
       "      <td>0</td>\n",
       "    </tr>\n",
       "    <tr>\n",
       "      <th>5280111</th>\n",
       "      <td>372</td>\n",
       "      <td>CASH_OUT</td>\n",
       "      <td>501715.41</td>\n",
       "      <td>C555809067</td>\n",
       "      <td>96128.79</td>\n",
       "      <td>0.00</td>\n",
       "      <td>C1185830080</td>\n",
       "      <td>664493.22</td>\n",
       "      <td>1166208.64</td>\n",
       "      <td>0</td>\n",
       "      <td>0</td>\n",
       "    </tr>\n",
       "    <tr>\n",
       "      <th>2984534</th>\n",
       "      <td>231</td>\n",
       "      <td>CASH_IN</td>\n",
       "      <td>501715.19</td>\n",
       "      <td>C1586580516</td>\n",
       "      <td>4122.00</td>\n",
       "      <td>505837.19</td>\n",
       "      <td>C1796738748</td>\n",
       "      <td>0.00</td>\n",
       "      <td>0.00</td>\n",
       "      <td>0</td>\n",
       "      <td>0</td>\n",
       "    </tr>\n",
       "    <tr>\n",
       "      <th>1638216</th>\n",
       "      <td>157</td>\n",
       "      <td>CASH_IN</td>\n",
       "      <td>501710.64</td>\n",
       "      <td>C843040970</td>\n",
       "      <td>430.00</td>\n",
       "      <td>502140.64</td>\n",
       "      <td>C1864097021</td>\n",
       "      <td>0.00</td>\n",
       "      <td>0.00</td>\n",
       "      <td>0</td>\n",
       "      <td>0</td>\n",
       "    </tr>\n",
       "    <tr>\n",
       "      <th>2025441</th>\n",
       "      <td>180</td>\n",
       "      <td>CASH_IN</td>\n",
       "      <td>501710.41</td>\n",
       "      <td>C1109167155</td>\n",
       "      <td>14682491.62</td>\n",
       "      <td>15184202.03</td>\n",
       "      <td>C145739790</td>\n",
       "      <td>6008879.39</td>\n",
       "      <td>5507168.98</td>\n",
       "      <td>0</td>\n",
       "      <td>0</td>\n",
       "    </tr>\n",
       "    <tr>\n",
       "      <th>823098</th>\n",
       "      <td>41</td>\n",
       "      <td>TRANSFER</td>\n",
       "      <td>501709.63</td>\n",
       "      <td>C585977042</td>\n",
       "      <td>9846.00</td>\n",
       "      <td>0.00</td>\n",
       "      <td>C876306094</td>\n",
       "      <td>5932706.69</td>\n",
       "      <td>6434416.32</td>\n",
       "      <td>0</td>\n",
       "      <td>0</td>\n",
       "    </tr>\n",
       "    <tr>\n",
       "      <th>58903</th>\n",
       "      <td>9</td>\n",
       "      <td>CASH_OUT</td>\n",
       "      <td>501709.34</td>\n",
       "      <td>C1194171106</td>\n",
       "      <td>0.00</td>\n",
       "      <td>0.00</td>\n",
       "      <td>C783487</td>\n",
       "      <td>2929191.69</td>\n",
       "      <td>23709.21</td>\n",
       "      <td>0</td>\n",
       "      <td>0</td>\n",
       "    </tr>\n",
       "  </tbody>\n",
       "</table>\n",
       "</div>"
      ],
      "text/plain": [
       "         step      type     amount     nameOrig  oldbalanceOrg  \\\n",
       "1737199   161  CASH_OUT  501718.41  C1077569708       78605.00   \n",
       "1082806   129   CASH_IN  501718.02   C970634468    20873140.30   \n",
       "2827303   226  CASH_OUT  501717.55   C855812747      121947.70   \n",
       "2069077   181   CASH_IN  501717.33   C897630635     5120317.65   \n",
       "5280111   372  CASH_OUT  501715.41   C555809067       96128.79   \n",
       "2984534   231   CASH_IN  501715.19  C1586580516        4122.00   \n",
       "1638216   157   CASH_IN  501710.64   C843040970         430.00   \n",
       "2025441   180   CASH_IN  501710.41  C1109167155    14682491.62   \n",
       "823098     41  TRANSFER  501709.63   C585977042        9846.00   \n",
       "58903       9  CASH_OUT  501709.34  C1194171106           0.00   \n",
       "\n",
       "         newbalanceOrig     nameDest  oldbalanceDest  newbalanceDest  isFraud  \\\n",
       "1737199            0.00  C1924590813       697311.14      1199029.56        0   \n",
       "1082806     21374858.32  C1091756447      5463193.08      5127569.29        0   \n",
       "2827303            0.00   C914557298      1379104.08      1880821.63        0   \n",
       "2069077      5622034.98  C1830915224      1314756.05       813038.72        0   \n",
       "5280111            0.00  C1185830080       664493.22      1166208.64        0   \n",
       "2984534       505837.19  C1796738748            0.00            0.00        0   \n",
       "1638216       502140.64  C1864097021            0.00            0.00        0   \n",
       "2025441     15184202.03   C145739790      6008879.39      5507168.98        0   \n",
       "823098             0.00   C876306094      5932706.69      6434416.32        0   \n",
       "58903              0.00      C783487      2929191.69        23709.21        0   \n",
       "\n",
       "         isFlaggedFraud  \n",
       "1737199               0  \n",
       "1082806               0  \n",
       "2827303               0  \n",
       "2069077               0  \n",
       "5280111               0  \n",
       "2984534               0  \n",
       "1638216               0  \n",
       "2025441               0  \n",
       "823098                0  \n",
       "58903                 0  "
      ]
     },
     "execution_count": 113,
     "metadata": {},
     "output_type": "execute_result"
    }
   ],
   "source": [
    "#checking the Most 10 Largest Amount\n",
    "df.nlargest(10, 'amount')\n"
   ]
  },
  {
   "cell_type": "code",
   "execution_count": 135,
   "id": "26a48945-f3cf-4256-8e12-7491c16b523e",
   "metadata": {},
   "outputs": [],
   "source": [
    "df['balance_diff'] = df.oldbalanceOrg - df.newbalanceOrig\n"
   ]
  },
  {
   "cell_type": "markdown",
   "id": "d56cba29-2a73-498d-8eab-5f5ea0c4a12c",
   "metadata": {},
   "source": [
    "# Data Preprocessing\n"
   ]
  },
  {
   "cell_type": "code",
   "execution_count": 140,
   "id": "37139803-9b8c-4b0a-9caf-157bf4c21ed8",
   "metadata": {},
   "outputs": [
    {
     "data": {
      "text/plain": [
       "isFraud\n",
       "0    6020183\n",
       "1       4359\n",
       "Name: count, dtype: int64"
      ]
     },
     "execution_count": 140,
     "metadata": {},
     "output_type": "execute_result"
    }
   ],
   "source": [
    "df.isFraud.value_counts()\n"
   ]
  },
  {
   "cell_type": "markdown",
   "id": "293504ff-4aa3-457b-84ce-899129703f97",
   "metadata": {},
   "source": [
    "# the fradud data is very very small fraud cases about 0.1% so to avoid any missclassifications we will balance the dataset\r",
    "\r\n"
   ]
  },
  {
   "cell_type": "code",
   "execution_count": 141,
   "id": "db9db71d-1f89-4238-a18b-d46952e78056",
   "metadata": {},
   "outputs": [
    {
     "data": {
      "image/png": "[encoded data removed]",
      "text/plain": [
       "<Figure size 640x480 with 1 Axes>"
      ]
     },
     "metadata": {},
     "output_type": "display_data"
    }
   ],
   "source": [
    "\n",
    "\n",
    "plt.pie(df.isFraud.value_counts(),\n",
    "        autopct='%1.1f%%', pctdistance=0.85)\n",
    "centre_circle = plt.Circle((0, 0), 0.70, fc='white')\n",
    "fig = plt.gcf()\n",
    "fig.gca().add_artist(centre_circle)\n",
    "plt.show()"
   ]
  },
  {
   "cell_type": "code",
   "execution_count": 142,
   "id": "8fa9bae7-bda7-4413-8142-992351656d3d",
   "metadata": {},
   "outputs": [
    {
     "name": "stdout",
     "output_type": "stream",
     "text": [
      "class 0: (6020183, 12)\n",
      "class 1: (4359, 12)\n"
     ]
    }
   ],
   "source": [
    "# class count\n",
    "class_count_0, class_count_1 = df['isFraud'].value_counts()\n",
    "\n",
    "# Separate class\n",
    "class_0 = df[df['isFraud'] == 0]\n",
    "class_1 = df[df['isFraud'] == 1]# print the shape of the class\n",
    "print('class 0:', class_0.shape)\n",
    "print('class 1:', class_1.shape)"
   ]
  },
  {
   "cell_type": "code",
   "execution_count": 143,
   "id": "9d4a8e93-a66b-41d1-b755-b88e7ff55589",
   "metadata": {},
   "outputs": [
    {
     "name": "stdout",
     "output_type": "stream",
     "text": [
      "total class of 1 and0: isFraud\n",
      "0    4359\n",
      "1    4359\n",
      "Name: count, dtype: int64\n"
     ]
    },
    {
     "data": {
      "text/plain": [
       "<Axes: title={'center': 'count (target)'}, xlabel='isFraud'>"
      ]
     },
     "execution_count": 143,
     "metadata": {},
     "output_type": "execute_result"
    },
    {
     "data": {
      "image/png": "[encoded data removed]",
      "text/plain": [
       "<Figure size 640x480 with 1 Axes>"
      ]
     },
     "metadata": {},
     "output_type": "display_data"
    }
   ],
   "source": [
    "class_0_under = class_0.sample(class_count_1)\n",
    "\n",
    "balancing_data = pd.concat([class_0_under, class_1], axis=0)\n",
    "\n",
    "print(\"total class of 1 and0:\",balancing_data['isFraud'].value_counts())# plot the count after under-sampeling\n",
    "balancing_data['isFraud'].value_counts().plot(kind='bar', title='count (target)')"
   ]
  },
  {
   "cell_type": "code",
   "execution_count": 144,
   "id": "26e0ff98-c749-4c69-99be-c50fbdfd8cb2",
   "metadata": {},
   "outputs": [
    {
     "data": {
      "text/html": [
       "<div>\n",
       "<style scoped>\n",
       "    .dataframe tbody tr th:only-of-type {\n",
       "        vertical-align: middle;\n",
       "    }\n",
       "\n",
       "    .dataframe tbody tr th {\n",
       "        vertical-align: top;\n",
       "    }\n",
       "\n",
       "    .dataframe thead th {\n",
       "        text-align: right;\n",
       "    }\n",
       "</style>\n",
       "<table border=\"1\" class=\"dataframe\">\n",
       "  <thead>\n",
       "    <tr style=\"text-align: right;\">\n",
       "      <th></th>\n",
       "      <th>step</th>\n",
       "      <th>type</th>\n",
       "      <th>amount</th>\n",
       "      <th>nameOrig</th>\n",
       "      <th>oldbalanceOrg</th>\n",
       "      <th>newbalanceOrig</th>\n",
       "      <th>nameDest</th>\n",
       "      <th>oldbalanceDest</th>\n",
       "      <th>newbalanceDest</th>\n",
       "      <th>isFraud</th>\n",
       "      <th>isFlaggedFraud</th>\n",
       "      <th>balance_diff</th>\n",
       "    </tr>\n",
       "  </thead>\n",
       "  <tbody>\n",
       "    <tr>\n",
       "      <th>2070687</th>\n",
       "      <td>181</td>\n",
       "      <td>CASH_OUT</td>\n",
       "      <td>157786.83</td>\n",
       "      <td>C1270721813</td>\n",
       "      <td>0.00</td>\n",
       "      <td>0.00</td>\n",
       "      <td>C1407895183</td>\n",
       "      <td>1047209.83</td>\n",
       "      <td>1204996.66</td>\n",
       "      <td>0</td>\n",
       "      <td>0</td>\n",
       "      <td>0.00</td>\n",
       "    </tr>\n",
       "    <tr>\n",
       "      <th>3617647</th>\n",
       "      <td>273</td>\n",
       "      <td>PAYMENT</td>\n",
       "      <td>9919.24</td>\n",
       "      <td>C903017486</td>\n",
       "      <td>244550.34</td>\n",
       "      <td>234631.10</td>\n",
       "      <td>M828895362</td>\n",
       "      <td>0.00</td>\n",
       "      <td>0.00</td>\n",
       "      <td>0</td>\n",
       "      <td>0</td>\n",
       "      <td>9919.24</td>\n",
       "    </tr>\n",
       "    <tr>\n",
       "      <th>4541038</th>\n",
       "      <td>326</td>\n",
       "      <td>PAYMENT</td>\n",
       "      <td>7806.15</td>\n",
       "      <td>C384140680</td>\n",
       "      <td>202175.00</td>\n",
       "      <td>194368.85</td>\n",
       "      <td>M1373817307</td>\n",
       "      <td>0.00</td>\n",
       "      <td>0.00</td>\n",
       "      <td>0</td>\n",
       "      <td>0</td>\n",
       "      <td>7806.15</td>\n",
       "    </tr>\n",
       "    <tr>\n",
       "      <th>4470967</th>\n",
       "      <td>324</td>\n",
       "      <td>CASH_IN</td>\n",
       "      <td>9350.93</td>\n",
       "      <td>C1970683765</td>\n",
       "      <td>10733.00</td>\n",
       "      <td>20083.93</td>\n",
       "      <td>C185309214</td>\n",
       "      <td>427360.04</td>\n",
       "      <td>418009.10</td>\n",
       "      <td>0</td>\n",
       "      <td>0</td>\n",
       "      <td>-9350.93</td>\n",
       "    </tr>\n",
       "    <tr>\n",
       "      <th>793197</th>\n",
       "      <td>40</td>\n",
       "      <td>PAYMENT</td>\n",
       "      <td>18171.96</td>\n",
       "      <td>C827920987</td>\n",
       "      <td>240156.34</td>\n",
       "      <td>221984.39</td>\n",
       "      <td>M118592709</td>\n",
       "      <td>0.00</td>\n",
       "      <td>0.00</td>\n",
       "      <td>0</td>\n",
       "      <td>0</td>\n",
       "      <td>18171.95</td>\n",
       "    </tr>\n",
       "    <tr>\n",
       "      <th>...</th>\n",
       "      <td>...</td>\n",
       "      <td>...</td>\n",
       "      <td>...</td>\n",
       "      <td>...</td>\n",
       "      <td>...</td>\n",
       "      <td>...</td>\n",
       "      <td>...</td>\n",
       "      <td>...</td>\n",
       "      <td>...</td>\n",
       "      <td>...</td>\n",
       "      <td>...</td>\n",
       "      <td>...</td>\n",
       "    </tr>\n",
       "    <tr>\n",
       "      <th>6362609</th>\n",
       "      <td>742</td>\n",
       "      <td>CASH_OUT</td>\n",
       "      <td>258355.42</td>\n",
       "      <td>C1113162093</td>\n",
       "      <td>258355.42</td>\n",
       "      <td>0.00</td>\n",
       "      <td>C797688696</td>\n",
       "      <td>25176.67</td>\n",
       "      <td>283532.09</td>\n",
       "      <td>1</td>\n",
       "      <td>0</td>\n",
       "      <td>258355.42</td>\n",
       "    </tr>\n",
       "    <tr>\n",
       "      <th>6362610</th>\n",
       "      <td>742</td>\n",
       "      <td>TRANSFER</td>\n",
       "      <td>63416.99</td>\n",
       "      <td>C778071008</td>\n",
       "      <td>63416.99</td>\n",
       "      <td>0.00</td>\n",
       "      <td>C1812552860</td>\n",
       "      <td>0.00</td>\n",
       "      <td>0.00</td>\n",
       "      <td>1</td>\n",
       "      <td>0</td>\n",
       "      <td>63416.99</td>\n",
       "    </tr>\n",
       "    <tr>\n",
       "      <th>6362611</th>\n",
       "      <td>742</td>\n",
       "      <td>CASH_OUT</td>\n",
       "      <td>63416.99</td>\n",
       "      <td>C994950684</td>\n",
       "      <td>63416.99</td>\n",
       "      <td>0.00</td>\n",
       "      <td>C1662241365</td>\n",
       "      <td>276433.18</td>\n",
       "      <td>339850.17</td>\n",
       "      <td>1</td>\n",
       "      <td>0</td>\n",
       "      <td>63416.99</td>\n",
       "    </tr>\n",
       "    <tr>\n",
       "      <th>6362614</th>\n",
       "      <td>743</td>\n",
       "      <td>TRANSFER</td>\n",
       "      <td>339682.13</td>\n",
       "      <td>C2013999242</td>\n",
       "      <td>339682.13</td>\n",
       "      <td>0.00</td>\n",
       "      <td>C1850423904</td>\n",
       "      <td>0.00</td>\n",
       "      <td>0.00</td>\n",
       "      <td>1</td>\n",
       "      <td>0</td>\n",
       "      <td>339682.13</td>\n",
       "    </tr>\n",
       "    <tr>\n",
       "      <th>6362615</th>\n",
       "      <td>743</td>\n",
       "      <td>CASH_OUT</td>\n",
       "      <td>339682.13</td>\n",
       "      <td>C786484425</td>\n",
       "      <td>339682.13</td>\n",
       "      <td>0.00</td>\n",
       "      <td>C776919290</td>\n",
       "      <td>0.00</td>\n",
       "      <td>339682.13</td>\n",
       "      <td>1</td>\n",
       "      <td>0</td>\n",
       "      <td>339682.13</td>\n",
       "    </tr>\n",
       "  </tbody>\n",
       "</table>\n",
       "<p>8718 rows × 12 columns</p>\n",
       "</div>"
      ],
      "text/plain": [
       "         step      type     amount     nameOrig  oldbalanceOrg  \\\n",
       "2070687   181  CASH_OUT  157786.83  C1270721813           0.00   \n",
       "3617647   273   PAYMENT    9919.24   C903017486      244550.34   \n",
       "4541038   326   PAYMENT    7806.15   C384140680      202175.00   \n",
       "4470967   324   CASH_IN    9350.93  C1970683765       10733.00   \n",
       "793197     40   PAYMENT   18171.96   C827920987      240156.34   \n",
       "...       ...       ...        ...          ...            ...   \n",
       "6362609   742  CASH_OUT  258355.42  C1113162093      258355.42   \n",
       "6362610   742  TRANSFER   63416.99   C778071008       63416.99   \n",
       "6362611   742  CASH_OUT   63416.99   C994950684       63416.99   \n",
       "6362614   743  TRANSFER  339682.13  C2013999242      339682.13   \n",
       "6362615   743  CASH_OUT  339682.13   C786484425      339682.13   \n",
       "\n",
       "         newbalanceOrig     nameDest  oldbalanceDest  newbalanceDest  isFraud  \\\n",
       "2070687            0.00  C1407895183      1047209.83      1204996.66        0   \n",
       "3617647       234631.10   M828895362            0.00            0.00        0   \n",
       "4541038       194368.85  M1373817307            0.00            0.00        0   \n",
       "4470967        20083.93   C185309214       427360.04       418009.10        0   \n",
       "793197        221984.39   M118592709            0.00            0.00        0   \n",
       "...                 ...          ...             ...             ...      ...   \n",
       "6362609            0.00   C797688696        25176.67       283532.09        1   \n",
       "6362610            0.00  C1812552860            0.00            0.00        1   \n",
       "6362611            0.00  C1662241365       276433.18       339850.17        1   \n",
       "6362614            0.00  C1850423904            0.00            0.00        1   \n",
       "6362615            0.00   C776919290            0.00       339682.13        1   \n",
       "\n",
       "         isFlaggedFraud  balance_diff  \n",
       "2070687               0          0.00  \n",
       "3617647               0       9919.24  \n",
       "4541038               0       7806.15  \n",
       "4470967               0      -9350.93  \n",
       "793197                0      18171.95  \n",
       "...                 ...           ...  \n",
       "6362609               0     258355.42  \n",
       "6362610               0      63416.99  \n",
       "6362611               0      63416.99  \n",
       "6362614               0     339682.13  \n",
       "6362615               0     339682.13  \n",
       "\n",
       "[8718 rows x 12 columns]"
      ]
     },
     "execution_count": 144,
     "metadata": {},
     "output_type": "execute_result"
    }
   ],
   "source": [
    "#New Dataset...\n",
    "balancing_data"
   ]
  },
  {
   "cell_type": "code",
   "execution_count": 145,
   "id": "b16ef45d-5517-4326-a8b0-3d7eb35626ce",
   "metadata": {},
   "outputs": [
    {
     "data": {
      "text/html": [
       "<div>\n",
       "<style scoped>\n",
       "    .dataframe tbody tr th:only-of-type {\n",
       "        vertical-align: middle;\n",
       "    }\n",
       "\n",
       "    .dataframe tbody tr th {\n",
       "        vertical-align: top;\n",
       "    }\n",
       "\n",
       "    .dataframe thead th {\n",
       "        text-align: right;\n",
       "    }\n",
       "</style>\n",
       "<table border=\"1\" class=\"dataframe\">\n",
       "  <thead>\n",
       "    <tr style=\"text-align: right;\">\n",
       "      <th></th>\n",
       "      <th>step</th>\n",
       "      <th>type</th>\n",
       "      <th>amount</th>\n",
       "      <th>nameOrig</th>\n",
       "      <th>oldbalanceOrg</th>\n",
       "      <th>newbalanceOrig</th>\n",
       "      <th>nameDest</th>\n",
       "      <th>oldbalanceDest</th>\n",
       "      <th>newbalanceDest</th>\n",
       "      <th>isFraud</th>\n",
       "      <th>isFlaggedFraud</th>\n",
       "      <th>balance_diff</th>\n",
       "    </tr>\n",
       "  </thead>\n",
       "  <tbody>\n",
       "    <tr>\n",
       "      <th>2070687</th>\n",
       "      <td>181</td>\n",
       "      <td>CASH_OUT</td>\n",
       "      <td>157786.83</td>\n",
       "      <td>C1270721813</td>\n",
       "      <td>0.00</td>\n",
       "      <td>0.00</td>\n",
       "      <td>C1407895183</td>\n",
       "      <td>1047209.83</td>\n",
       "      <td>1204996.66</td>\n",
       "      <td>0</td>\n",
       "      <td>0</td>\n",
       "      <td>0.00</td>\n",
       "    </tr>\n",
       "    <tr>\n",
       "      <th>3617647</th>\n",
       "      <td>273</td>\n",
       "      <td>PAYMENT</td>\n",
       "      <td>9919.24</td>\n",
       "      <td>C903017486</td>\n",
       "      <td>244550.34</td>\n",
       "      <td>234631.10</td>\n",
       "      <td>M828895362</td>\n",
       "      <td>0.00</td>\n",
       "      <td>0.00</td>\n",
       "      <td>0</td>\n",
       "      <td>0</td>\n",
       "      <td>9919.24</td>\n",
       "    </tr>\n",
       "    <tr>\n",
       "      <th>4541038</th>\n",
       "      <td>326</td>\n",
       "      <td>PAYMENT</td>\n",
       "      <td>7806.15</td>\n",
       "      <td>C384140680</td>\n",
       "      <td>202175.00</td>\n",
       "      <td>194368.85</td>\n",
       "      <td>M1373817307</td>\n",
       "      <td>0.00</td>\n",
       "      <td>0.00</td>\n",
       "      <td>0</td>\n",
       "      <td>0</td>\n",
       "      <td>7806.15</td>\n",
       "    </tr>\n",
       "    <tr>\n",
       "      <th>4470967</th>\n",
       "      <td>324</td>\n",
       "      <td>CASH_IN</td>\n",
       "      <td>9350.93</td>\n",
       "      <td>C1970683765</td>\n",
       "      <td>10733.00</td>\n",
       "      <td>20083.93</td>\n",
       "      <td>C185309214</td>\n",
       "      <td>427360.04</td>\n",
       "      <td>418009.10</td>\n",
       "      <td>0</td>\n",
       "      <td>0</td>\n",
       "      <td>-9350.93</td>\n",
       "    </tr>\n",
       "    <tr>\n",
       "      <th>793197</th>\n",
       "      <td>40</td>\n",
       "      <td>PAYMENT</td>\n",
       "      <td>18171.96</td>\n",
       "      <td>C827920987</td>\n",
       "      <td>240156.34</td>\n",
       "      <td>221984.39</td>\n",
       "      <td>M118592709</td>\n",
       "      <td>0.00</td>\n",
       "      <td>0.00</td>\n",
       "      <td>0</td>\n",
       "      <td>0</td>\n",
       "      <td>18171.95</td>\n",
       "    </tr>\n",
       "  </tbody>\n",
       "</table>\n",
       "</div>"
      ],
      "text/plain": [
       "         step      type     amount     nameOrig  oldbalanceOrg  \\\n",
       "2070687   181  CASH_OUT  157786.83  C1270721813           0.00   \n",
       "3617647   273   PAYMENT    9919.24   C903017486      244550.34   \n",
       "4541038   326   PAYMENT    7806.15   C384140680      202175.00   \n",
       "4470967   324   CASH_IN    9350.93  C1970683765       10733.00   \n",
       "793197     40   PAYMENT   18171.96   C827920987      240156.34   \n",
       "\n",
       "         newbalanceOrig     nameDest  oldbalanceDest  newbalanceDest  isFraud  \\\n",
       "2070687            0.00  C1407895183      1047209.83      1204996.66        0   \n",
       "3617647       234631.10   M828895362            0.00            0.00        0   \n",
       "4541038       194368.85  M1373817307            0.00            0.00        0   \n",
       "4470967        20083.93   C185309214       427360.04       418009.10        0   \n",
       "793197        221984.39   M118592709            0.00            0.00        0   \n",
       "\n",
       "         isFlaggedFraud  balance_diff  \n",
       "2070687               0          0.00  \n",
       "3617647               0       9919.24  \n",
       "4541038               0       7806.15  \n",
       "4470967               0      -9350.93  \n",
       "793197                0      18171.95  "
      ]
     },
     "execution_count": 145,
     "metadata": {},
     "output_type": "execute_result"
    }
   ],
   "source": [
    "balancing_data.head()"
   ]
  },
  {
   "cell_type": "code",
   "execution_count": 125,
   "id": "f54c0e35-b602-495d-b374-ca4da4ca671b",
   "metadata": {},
   "outputs": [
    {
     "name": "stdout",
     "output_type": "stream",
     "text": [
      "<class 'pandas.core.frame.DataFrame'>\n",
      "Index: 8718 entries, 4611926 to 6362615\n",
      "Data columns (total 11 columns):\n",
      " #   Column          Non-Null Count  Dtype  \n",
      "---  ------          --------------  -----  \n",
      " 0   step            8718 non-null   int64  \n",
      " 1   type            8718 non-null   object \n",
      " 2   amount          8718 non-null   float64\n",
      " 3   nameOrig        8718 non-null   object \n",
      " 4   oldbalanceOrg   8718 non-null   float64\n",
      " 5   newbalanceOrig  8718 non-null   float64\n",
      " 6   nameDest        8718 non-null   object \n",
      " 7   oldbalanceDest  8718 non-null   float64\n",
      " 8   newbalanceDest  8718 non-null   float64\n",
      " 9   isFraud         8718 non-null   int64  \n",
      " 10  isFlaggedFraud  8718 non-null   int64  \n",
      "dtypes: float64(5), int64(3), object(3)\n",
      "memory usage: 817.3+ KB\n"
     ]
    }
   ],
   "source": [
    "balancing_data.info()"
   ]
  },
  {
   "cell_type": "code",
   "execution_count": 146,
   "id": "7beb0ce0-1995-4f60-a85a-5f94817a923a",
   "metadata": {},
   "outputs": [
    {
     "data": {
      "text/plain": [
       "array(['CASH_OUT', 'PAYMENT', 'CASH_IN', 'TRANSFER', 'DEBIT'],\n",
       "      dtype=object)"
      ]
     },
     "execution_count": 146,
     "metadata": {},
     "output_type": "execute_result"
    }
   ],
   "source": [
    "balancing_data.type.unique()"
   ]
  },
  {
   "cell_type": "code",
   "execution_count": 147,
   "id": "116877cf-03e2-40a1-b25b-9f4a4d5d38c8",
   "metadata": {},
   "outputs": [],
   "source": [
    "balancing_data[\"type\"] = balancing_data[\"type\"].map({\"CASH_OUT\": 1, \"PAYMENT\": 2, \"CASH_IN\": 3, \"TRANSFER\": 4, \"DEBIT\": 5})"
   ]
  },
  {
   "cell_type": "markdown",
   "id": "c9489e6a-a6da-4e33-bdd0-7d637fb4a8f8",
   "metadata": {},
   "source": [
    "# let's making our X and y variables and split the data into train-test split"
   ]
  },
  {
   "cell_type": "code",
   "execution_count": 148,
   "id": "87c74878-53b9-45a7-b8b4-f2de3dd48ebe",
   "metadata": {},
   "outputs": [],
   "source": [
    "X = balancing_data[['type', 'amount', 'oldbalanceOrg', 'newbalanceOrig', 'balance_diff']].values\n",
    "y = balancing_data.loc[:,'isFraud'].values"
   ]
  },
  {
   "cell_type": "code",
   "execution_count": 236,
   "id": "c67a4b06-fea4-4f58-95ad-da0ffb07a3c2",
   "metadata": {},
   "outputs": [],
   "source": [
    "from sklearn.model_selection import train_test_split\n",
    "X_train, X_test, y_train, y_test = train_test_split(X, y, train_size=0.25, random_state=0)\n"
   ]
  },
  {
   "cell_type": "code",
   "execution_count": 237,
   "id": "10334364-ff70-46d5-8c31-87e05635025e",
   "metadata": {},
   "outputs": [
    {
     "data": {
      "text/plain": [
       "((2179, 5), (6539, 5))"
      ]
     },
     "execution_count": 237,
     "metadata": {},
     "output_type": "execute_result"
    }
   ],
   "source": [
    "X_train.shape,X_test.shape\n"
   ]
  },
  {
   "cell_type": "markdown",
   "id": "9bcbbc87-affd-4d25-ad6c-bc1129a84f4d",
   "metadata": {},
   "source": [
    "# Label Encoding"
   ]
  },
  {
   "cell_type": "code",
   "execution_count": 238,
   "id": "fd09c6af-cc8b-41d9-a3fb-83b747d3ef2a",
   "metadata": {},
   "outputs": [
    {
     "name": "stdout",
     "output_type": "stream",
     "text": [
      "[2.27030748e+00 1.45824875e+05 5.36626672e+05 4.55613203e+05\n",
      " 8.10134687e+04]\n"
     ]
    }
   ],
   "source": [
    "from sklearn.preprocessing import StandardScaler\n",
    "scaler= StandardScaler()\n",
    "scaler.fit(X_train)\n",
    "print(scaler.mean_)\n",
    "X_train = scaler.transform(X_train)\n",
    "X_test = scaler.transform(X_test)"
   ]
  },
  {
   "cell_type": "code",
   "execution_count": 239,
   "id": "398fa503-57e6-4ac5-bbd6-91d9fe6babbd",
   "metadata": {},
   "outputs": [],
   "source": [
    "from sklearn import preprocessing\n",
    "from sklearn import utils\n",
    "\n",
    "#convert y values to categorical values\n",
    "lab = preprocessing.LabelEncoder()\n",
    "y_train = lab.fit_transform(y_train)\n",
    "y_test = lab.fit_transform(y_test)"
   ]
  },
  {
   "cell_type": "markdown",
   "id": "d3fe4a52-7002-4c93-8707-1818402fb73c",
   "metadata": {},
   "source": [
    "# Implementing Model"
   ]
  },
  {
   "cell_type": "code",
   "execution_count": 240,
   "id": "81c0cd98-d4c2-42ff-910d-b4a2a88f6fd9",
   "metadata": {},
   "outputs": [
    {
     "data": {
      "text/html": [
       "<style>#sk-container-id-4 {color: black;}#sk-container-id-4 pre{padding: 0;}#sk-container-id-4 div.sk-toggleable {background-color: white;}#sk-container-id-4 label.sk-toggleable__label {cursor: pointer;display: block;width: 100%;margin-bottom: 0;padding: 0.3em;box-sizing: border-box;text-align: center;}#sk-container-id-4 label.sk-toggleable__label-arrow:before {content: \"▸\";float: left;margin-right: 0.25em;color: #696969;}#sk-container-id-4 label.sk-toggleable__label-arrow:hover:before {color: black;}#sk-container-id-4 div.sk-estimator:hover label.sk-toggleable__label-arrow:before {color: black;}#sk-container-id-4 div.sk-toggleable__content {max-height: 0;max-width: 0;overflow: hidden;text-align: left;background-color: #f0f8ff;}#sk-container-id-4 div.sk-toggleable__content pre {margin: 0.2em;color: black;border-radius: 0.25em;background-color: #f0f8ff;}#sk-container-id-4 input.sk-toggleable__control:checked~div.sk-toggleable__content {max-height: 200px;max-width: 100%;overflow: auto;}#sk-container-id-4 input.sk-toggleable__control:checked~label.sk-toggleable__label-arrow:before {content: \"▾\";}#sk-container-id-4 div.sk-estimator input.sk-toggleable__control:checked~label.sk-toggleable__label {background-color: #d4ebff;}#sk-container-id-4 div.sk-label input.sk-toggleable__control:checked~label.sk-toggleable__label {background-color: #d4ebff;}#sk-container-id-4 input.sk-hidden--visually {border: 0;clip: rect(1px 1px 1px 1px);clip: rect(1px, 1px, 1px, 1px);height: 1px;margin: -1px;overflow: hidden;padding: 0;position: absolute;width: 1px;}#sk-container-id-4 div.sk-estimator {font-family: monospace;background-color: #f0f8ff;border: 1px dotted black;border-radius: 0.25em;box-sizing: border-box;margin-bottom: 0.5em;}#sk-container-id-4 div.sk-estimator:hover {background-color: #d4ebff;}#sk-container-id-4 div.sk-parallel-item::after {content: \"\";width: 100%;border-bottom: 1px solid gray;flex-grow: 1;}#sk-container-id-4 div.sk-label:hover label.sk-toggleable__label {background-color: #d4ebff;}#sk-container-id-4 div.sk-serial::before {content: \"\";position: absolute;border-left: 1px solid gray;box-sizing: border-box;top: 0;bottom: 0;left: 50%;z-index: 0;}#sk-container-id-4 div.sk-serial {display: flex;flex-direction: column;align-items: center;background-color: white;padding-right: 0.2em;padding-left: 0.2em;position: relative;}#sk-container-id-4 div.sk-item {position: relative;z-index: 1;}#sk-container-id-4 div.sk-parallel {display: flex;align-items: stretch;justify-content: center;background-color: white;position: relative;}#sk-container-id-4 div.sk-item::before, #sk-container-id-4 div.sk-parallel-item::before {content: \"\";position: absolute;border-left: 1px solid gray;box-sizing: border-box;top: 0;bottom: 0;left: 50%;z-index: -1;}#sk-container-id-4 div.sk-parallel-item {display: flex;flex-direction: column;z-index: 1;position: relative;background-color: white;}#sk-container-id-4 div.sk-parallel-item:first-child::after {align-self: flex-end;width: 50%;}#sk-container-id-4 div.sk-parallel-item:last-child::after {align-self: flex-start;width: 50%;}#sk-container-id-4 div.sk-parallel-item:only-child::after {width: 0;}#sk-container-id-4 div.sk-dashed-wrapped {border: 1px dashed gray;margin: 0 0.4em 0.5em 0.4em;box-sizing: border-box;padding-bottom: 0.4em;background-color: white;}#sk-container-id-4 div.sk-label label {font-family: monospace;font-weight: bold;display: inline-block;line-height: 1.2em;}#sk-container-id-4 div.sk-label-container {text-align: center;}#sk-container-id-4 div.sk-container {/* jupyter's `normalize.less` sets `[hidden] { display: none; }` but bootstrap.min.css set `[hidden] { display: none !important; }` so we also need the `!important` here to be able to override the default hidden behavior on the sphinx rendered scikit-learn.org. See: https://github.com/scikit-learn/scikit-learn/issues/21755 */display: inline-block !important;position: relative;}#sk-container-id-4 div.sk-text-repr-fallback {display: none;}</style><div id=\"sk-container-id-4\" class=\"sk-top-container\"><div class=\"sk-text-repr-fallback\"><pre>DecisionTreeClassifier()</pre><b>In a Jupyter environment, please rerun this cell to show the HTML representation or trust the notebook. <br />On GitHub, the HTML representation is unable to render, please try loading this page with nbviewer.org.</b></div><div class=\"sk-container\" hidden><div class=\"sk-item\"><div class=\"sk-estimator sk-toggleable\"><input class=\"sk-toggleable__control sk-hidden--visually\" id=\"sk-estimator-id-4\" type=\"checkbox\" checked><label for=\"sk-estimator-id-4\" class=\"sk-toggleable__label sk-toggleable__label-arrow\">DecisionTreeClassifier</label><div class=\"sk-toggleable__content\"><pre>DecisionTreeClassifier()</pre></div></div></div></div></div>"
      ],
      "text/plain": [
       "DecisionTreeClassifier()"
      ]
     },
     "execution_count": 240,
     "metadata": {},
     "output_type": "execute_result"
    }
   ],
   "source": [
    "from sklearn.tree import DecisionTreeClassifier\n",
    "\n",
    "model = DecisionTreeClassifier()\n",
    "model.fit(X_train,y_train)"
   ]
  },
  {
   "cell_type": "code",
   "execution_count": 241,
   "id": "b2b3ce23-87bd-47d7-99d1-ecb77f3d4d9c",
   "metadata": {},
   "outputs": [],
   "source": [
    "y_prediction = model.predict(X_test)"
   ]
  },
  {
   "cell_type": "code",
   "execution_count": 242,
   "id": "fb6cf6b7-ad68-45d3-ad9f-2b383d7c45a6",
   "metadata": {},
   "outputs": [
    {
     "data": {
      "text/plain": [
       "array([1, 0, 0, ..., 0, 0, 0], dtype=int64)"
      ]
     },
     "execution_count": 242,
     "metadata": {},
     "output_type": "execute_result"
    }
   ],
   "source": [
    "y_prediction"
   ]
  },
  {
   "cell_type": "code",
   "execution_count": 243,
   "id": "f341ee4a-7469-4da2-b783-b7499cebb93f",
   "metadata": {},
   "outputs": [],
   "source": [
    "from sklearn.metrics import confusion_matrix, accuracy_score"
   ]
  },
  {
   "cell_type": "code",
   "execution_count": 244,
   "id": "06bada76-a516-4f37-8a62-82c3490d889d",
   "metadata": {},
   "outputs": [
    {
     "name": "stdout",
     "output_type": "stream",
     "text": [
      "Training Accuracy: 100.0\n",
      "Testing Accuracy: 98.50129989294999\n"
     ]
    }
   ],
   "source": [
    "print(f'Training Accuracy: {accuracy_score(y_train, model.predict(X_train)) * 100}')\n",
    "print(f'Testing Accuracy: {accuracy_score(y_test, y_prediction) * 100}')\n"
   ]
  },
  {
   "cell_type": "code",
   "execution_count": 196,
   "id": "7fa1e9eb-b7a6-4b8c-8b21-f064c90d1b89",
   "metadata": {},
   "outputs": [
    {
     "data": {
      "text/plain": [
       "array([1], dtype=int64)"
      ]
     },
     "execution_count": 196,
     "metadata": {},
     "output_type": "execute_result"
    }
   ],
   "source": [
    "  # Assuming 1 corresponds to the transaction type 'CASH_OUT'\n",
    "model.predict([[ 1,               15000.0, 10000.0,0.0,  -10000.0]])"
   ]
  },
  {
   "cell_type": "markdown",
   "id": "a91a7064-8294-4e11-90b3-f69410044478",
   "metadata": {},
   "source": [
    "# Choosing Best Model Corresponding to the Given Problem"
   ]
  },
  {
   "cell_type": "code",
   "execution_count": 234,
   "id": "da12fdb0-609b-4370-bde6-de3ec304994a",
   "metadata": {},
   "outputs": [
    {
     "data": {
      "text/html": [
       "<style>#sk-container-id-3 {color: black;}#sk-container-id-3 pre{padding: 0;}#sk-container-id-3 div.sk-toggleable {background-color: white;}#sk-container-id-3 label.sk-toggleable__label {cursor: pointer;display: block;width: 100%;margin-bottom: 0;padding: 0.3em;box-sizing: border-box;text-align: center;}#sk-container-id-3 label.sk-toggleable__label-arrow:before {content: \"▸\";float: left;margin-right: 0.25em;color: #696969;}#sk-container-id-3 label.sk-toggleable__label-arrow:hover:before {color: black;}#sk-container-id-3 div.sk-estimator:hover label.sk-toggleable__label-arrow:before {color: black;}#sk-container-id-3 div.sk-toggleable__content {max-height: 0;max-width: 0;overflow: hidden;text-align: left;background-color: #f0f8ff;}#sk-container-id-3 div.sk-toggleable__content pre {margin: 0.2em;color: black;border-radius: 0.25em;background-color: #f0f8ff;}#sk-container-id-3 input.sk-toggleable__control:checked~div.sk-toggleable__content {max-height: 200px;max-width: 100%;overflow: auto;}#sk-container-id-3 input.sk-toggleable__control:checked~label.sk-toggleable__label-arrow:before {content: \"▾\";}#sk-container-id-3 div.sk-estimator input.sk-toggleable__control:checked~label.sk-toggleable__label {background-color: #d4ebff;}#sk-container-id-3 div.sk-label input.sk-toggleable__control:checked~label.sk-toggleable__label {background-color: #d4ebff;}#sk-container-id-3 input.sk-hidden--visually {border: 0;clip: rect(1px 1px 1px 1px);clip: rect(1px, 1px, 1px, 1px);height: 1px;margin: -1px;overflow: hidden;padding: 0;position: absolute;width: 1px;}#sk-container-id-3 div.sk-estimator {font-family: monospace;background-color: #f0f8ff;border: 1px dotted black;border-radius: 0.25em;box-sizing: border-box;margin-bottom: 0.5em;}#sk-container-id-3 div.sk-estimator:hover {background-color: #d4ebff;}#sk-container-id-3 div.sk-parallel-item::after {content: \"\";width: 100%;border-bottom: 1px solid gray;flex-grow: 1;}#sk-container-id-3 div.sk-label:hover label.sk-toggleable__label {background-color: #d4ebff;}#sk-container-id-3 div.sk-serial::before {content: \"\";position: absolute;border-left: 1px solid gray;box-sizing: border-box;top: 0;bottom: 0;left: 50%;z-index: 0;}#sk-container-id-3 div.sk-serial {display: flex;flex-direction: column;align-items: center;background-color: white;padding-right: 0.2em;padding-left: 0.2em;position: relative;}#sk-container-id-3 div.sk-item {position: relative;z-index: 1;}#sk-container-id-3 div.sk-parallel {display: flex;align-items: stretch;justify-content: center;background-color: white;position: relative;}#sk-container-id-3 div.sk-item::before, #sk-container-id-3 div.sk-parallel-item::before {content: \"\";position: absolute;border-left: 1px solid gray;box-sizing: border-box;top: 0;bottom: 0;left: 50%;z-index: -1;}#sk-container-id-3 div.sk-parallel-item {display: flex;flex-direction: column;z-index: 1;position: relative;background-color: white;}#sk-container-id-3 div.sk-parallel-item:first-child::after {align-self: flex-end;width: 50%;}#sk-container-id-3 div.sk-parallel-item:last-child::after {align-self: flex-start;width: 50%;}#sk-container-id-3 div.sk-parallel-item:only-child::after {width: 0;}#sk-container-id-3 div.sk-dashed-wrapped {border: 1px dashed gray;margin: 0 0.4em 0.5em 0.4em;box-sizing: border-box;padding-bottom: 0.4em;background-color: white;}#sk-container-id-3 div.sk-label label {font-family: monospace;font-weight: bold;display: inline-block;line-height: 1.2em;}#sk-container-id-3 div.sk-label-container {text-align: center;}#sk-container-id-3 div.sk-container {/* jupyter's `normalize.less` sets `[hidden] { display: none; }` but bootstrap.min.css set `[hidden] { display: none !important; }` so we also need the `!important` here to be able to override the default hidden behavior on the sphinx rendered scikit-learn.org. See: https://github.com/scikit-learn/scikit-learn/issues/21755 */display: inline-block !important;position: relative;}#sk-container-id-3 div.sk-text-repr-fallback {display: none;}</style><div id=\"sk-container-id-3\" class=\"sk-top-container\"><div class=\"sk-text-repr-fallback\"><pre>LogisticRegression()</pre><b>In a Jupyter environment, please rerun this cell to show the HTML representation or trust the notebook. <br />On GitHub, the HTML representation is unable to render, please try loading this page with nbviewer.org.</b></div><div class=\"sk-container\" hidden><div class=\"sk-item\"><div class=\"sk-estimator sk-toggleable\"><input class=\"sk-toggleable__control sk-hidden--visually\" id=\"sk-estimator-id-3\" type=\"checkbox\" checked><label for=\"sk-estimator-id-3\" class=\"sk-toggleable__label sk-toggleable__label-arrow\">LogisticRegression</label><div class=\"sk-toggleable__content\"><pre>LogisticRegression()</pre></div></div></div></div></div>"
      ],
      "text/plain": [
       "LogisticRegression()"
      ]
     },
     "execution_count": 234,
     "metadata": {},
     "output_type": "execute_result"
    }
   ],
   "source": [
    "\n",
    "#Logistic Regression\n",
    "\n",
    "\n",
    "from sklearn.linear_model import LogisticRegression\n",
    "from sklearn.ensemble import RandomForestClassifier\n",
    "\n",
    "LR = LogisticRegression()\n",
    "LR.fit(X_train,y_train)\n",
    "\n",
    "\n"
   ]
  },
  {
   "cell_type": "code",
   "execution_count": 235,
   "id": "30bb2a28-d7cc-4e9b-b5cc-f3c068175fc6",
   "metadata": {},
   "outputs": [
    {
     "name": "stdout",
     "output_type": "stream",
     "text": [
      "training Accuracy 92.52064851636587\n",
      "Testing Accuracy 92.52064851636587\n"
     ]
    }
   ],
   "source": [
    "lr_prediction = LR.predict(X_train)\n",
    "\n",
    "print(\"training Accuracy\",(accuracy_score(y_train,LR.predict(X_train))*100))\n",
    "\n",
    "print(\"Testing Accuracy\",(accuracy_score(y_train,lr_prediction)*100))\n"
   ]
  },
  {
   "cell_type": "code",
   "execution_count": 216,
   "id": "a71bde38-0cfb-4e9c-8ebe-a3269f49f652",
   "metadata": {},
   "outputs": [
    {
     "data": {
      "text/html": [
       "<style>#sk-container-id-2 {color: black;}#sk-container-id-2 pre{padding: 0;}#sk-container-id-2 div.sk-toggleable {background-color: white;}#sk-container-id-2 label.sk-toggleable__label {cursor: pointer;display: block;width: 100%;margin-bottom: 0;padding: 0.3em;box-sizing: border-box;text-align: center;}#sk-container-id-2 label.sk-toggleable__label-arrow:before {content: \"▸\";float: left;margin-right: 0.25em;color: #696969;}#sk-container-id-2 label.sk-toggleable__label-arrow:hover:before {color: black;}#sk-container-id-2 div.sk-estimator:hover label.sk-toggleable__label-arrow:before {color: black;}#sk-container-id-2 div.sk-toggleable__content {max-height: 0;max-width: 0;overflow: hidden;text-align: left;background-color: #f0f8ff;}#sk-container-id-2 div.sk-toggleable__content pre {margin: 0.2em;color: black;border-radius: 0.25em;background-color: #f0f8ff;}#sk-container-id-2 input.sk-toggleable__control:checked~div.sk-toggleable__content {max-height: 200px;max-width: 100%;overflow: auto;}#sk-container-id-2 input.sk-toggleable__control:checked~label.sk-toggleable__label-arrow:before {content: \"▾\";}#sk-container-id-2 div.sk-estimator input.sk-toggleable__control:checked~label.sk-toggleable__label {background-color: #d4ebff;}#sk-container-id-2 div.sk-label input.sk-toggleable__control:checked~label.sk-toggleable__label {background-color: #d4ebff;}#sk-container-id-2 input.sk-hidden--visually {border: 0;clip: rect(1px 1px 1px 1px);clip: rect(1px, 1px, 1px, 1px);height: 1px;margin: -1px;overflow: hidden;padding: 0;position: absolute;width: 1px;}#sk-container-id-2 div.sk-estimator {font-family: monospace;background-color: #f0f8ff;border: 1px dotted black;border-radius: 0.25em;box-sizing: border-box;margin-bottom: 0.5em;}#sk-container-id-2 div.sk-estimator:hover {background-color: #d4ebff;}#sk-container-id-2 div.sk-parallel-item::after {content: \"\";width: 100%;border-bottom: 1px solid gray;flex-grow: 1;}#sk-container-id-2 div.sk-label:hover label.sk-toggleable__label {background-color: #d4ebff;}#sk-container-id-2 div.sk-serial::before {content: \"\";position: absolute;border-left: 1px solid gray;box-sizing: border-box;top: 0;bottom: 0;left: 50%;z-index: 0;}#sk-container-id-2 div.sk-serial {display: flex;flex-direction: column;align-items: center;background-color: white;padding-right: 0.2em;padding-left: 0.2em;position: relative;}#sk-container-id-2 div.sk-item {position: relative;z-index: 1;}#sk-container-id-2 div.sk-parallel {display: flex;align-items: stretch;justify-content: center;background-color: white;position: relative;}#sk-container-id-2 div.sk-item::before, #sk-container-id-2 div.sk-parallel-item::before {content: \"\";position: absolute;border-left: 1px solid gray;box-sizing: border-box;top: 0;bottom: 0;left: 50%;z-index: -1;}#sk-container-id-2 div.sk-parallel-item {display: flex;flex-direction: column;z-index: 1;position: relative;background-color: white;}#sk-container-id-2 div.sk-parallel-item:first-child::after {align-self: flex-end;width: 50%;}#sk-container-id-2 div.sk-parallel-item:last-child::after {align-self: flex-start;width: 50%;}#sk-container-id-2 div.sk-parallel-item:only-child::after {width: 0;}#sk-container-id-2 div.sk-dashed-wrapped {border: 1px dashed gray;margin: 0 0.4em 0.5em 0.4em;box-sizing: border-box;padding-bottom: 0.4em;background-color: white;}#sk-container-id-2 div.sk-label label {font-family: monospace;font-weight: bold;display: inline-block;line-height: 1.2em;}#sk-container-id-2 div.sk-label-container {text-align: center;}#sk-container-id-2 div.sk-container {/* jupyter's `normalize.less` sets `[hidden] { display: none; }` but bootstrap.min.css set `[hidden] { display: none !important; }` so we also need the `!important` here to be able to override the default hidden behavior on the sphinx rendered scikit-learn.org. See: https://github.com/scikit-learn/scikit-learn/issues/21755 */display: inline-block !important;position: relative;}#sk-container-id-2 div.sk-text-repr-fallback {display: none;}</style><div id=\"sk-container-id-2\" class=\"sk-top-container\"><div class=\"sk-text-repr-fallback\"><pre>RandomForestClassifier()</pre><b>In a Jupyter environment, please rerun this cell to show the HTML representation or trust the notebook. <br />On GitHub, the HTML representation is unable to render, please try loading this page with nbviewer.org.</b></div><div class=\"sk-container\" hidden><div class=\"sk-item\"><div class=\"sk-estimator sk-toggleable\"><input class=\"sk-toggleable__control sk-hidden--visually\" id=\"sk-estimator-id-2\" type=\"checkbox\" checked><label for=\"sk-estimator-id-2\" class=\"sk-toggleable__label sk-toggleable__label-arrow\">RandomForestClassifier</label><div class=\"sk-toggleable__content\"><pre>RandomForestClassifier()</pre></div></div></div></div></div>"
      ],
      "text/plain": [
       "RandomForestClassifier()"
      ]
     },
     "execution_count": 216,
     "metadata": {},
     "output_type": "execute_result"
    }
   ],
   "source": [
    "# RandomForest Classifier\n",
    "from sklearn.ensemble import RandomForestClassifier\n",
    "\n",
    "rm_model = RandomForestClassifier()\n",
    "rm_model.fit(X_train, y_train)"
   ]
  },
  {
   "cell_type": "code",
   "execution_count": 221,
   "id": "73a31cb6-975c-4dc7-8276-87b0b7a7bc36",
   "metadata": {},
   "outputs": [
    {
     "name": "stdout",
     "output_type": "stream",
     "text": [
      "training Accuracy 100.0\n",
      "Testing Accuracy 100.0\n"
     ]
    }
   ],
   "source": [
    "y_pred_score = rm_model.predict(X_train)\n",
    "print(\"training Accuracy\",(accuracy_score(y_train,rm_model.predict(X_train))*100))\n",
    "\n",
    "print(\"Testing Accuracy\",(accuracy_score(y_train,y_pred_score)*100))\n"
   ]
  },
  {
   "cell_type": "code",
   "execution_count": 228,
   "id": "49a20482-11df-431d-adc4-12440e28a137",
   "metadata": {},
   "outputs": [
    {
     "name": "stdout",
     "output_type": "stream",
     "text": [
      "training Accuracy 99.70939125114714\n",
      "Testing Accuracy 0.4993881921076782\n"
     ]
    }
   ],
   "source": [
    "from xgboost import XGBClassifier\n",
    "\n",
    "XGB = XGBClassifier()\n",
    "XGB.fit(X_train, y_train)\n",
    "\n",
    "XGB_predict = XGB.predict(X_train)\n",
    "print(\"training Accuracy\",(accuracy_score(y_train,XGB.predict(X_train))*100))\n",
    "\n",
    "print(\"Testing Accuracy\",(accuracy_score(y_train,XGB_predict*100)))"
   ]
  },
  {
   "cell_type": "markdown",
   "id": "855b267c-6ae5-40ad-9d5b-5102321975e1",
   "metadata": {},
   "source": [
    "# Conclusion\n",
    "Suppose When We Use RandomForest Classifier then Our Model Become Overfit Model Which gives 100% Accuracy their for we Suggest you to Use Logistic Regression For Given Problem."
   ]
  },
  {
   "cell_type": "code",
   "execution_count": null,
   "id": "6582ff93-4c90-4651-9726-947e178722a0",
   "metadata": {},
   "outputs": [],
   "source": []
  },
  {
   "cell_type": "code",
   "execution_count": null,
   "id": "565686dd-d3d5-43c2-9ddf-83205a57f911",
   "metadata": {},
   "outputs": [],
   "source": []
  }
 ],
 "metadata": {
  "kernelspec": {
   "display_name": "Python 3 (ipykernel)",
   "language": "python",
   "name": "python3"
  },
  "language_info": {
   "codemirror_mode": {
    "name": "ipython",
    "version": 3
   },
   "file_extension": ".py",
   "mimetype": "text/x-python",
   "name": "python",
   "nbconvert_exporter": "python",
   "pygments_lexer": "ipython3",
   "version": "3.11.5"
  }
 },
 "nbformat": 4,
 "nbformat_minor": 5
}
